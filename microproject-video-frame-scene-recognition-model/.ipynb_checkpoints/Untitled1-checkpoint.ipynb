{
 "cells": [
  {
   "cell_type": "markdown",
   "id": "a24b1110",
   "metadata": {},
   "source": [
    "<h1 style=\"text-align: center\">\n",
    "<div style=\"color: #DD3403; font-size: 60%\">Data Science DISCOVERY MicroProject</div>\n",
    "<span style=\"\">MicroProject: Building a Scene Recognition Model form Video Frames</span>\n",
    "<div style=\"font-size: 60%;\"><a href=\"https://discovery.cs.illinois.edu/microproject/video-frame-scene-recognition-model/\">https://discovery.cs.illinois.edu/microproject/video-frame-scene-recognition-model/</a></div>\n",
    "</h1>\n",
    "\n",
    "<hr style=\"color: #DD3403;\">"
   ]
  },
  {
   "cell_type": "markdown",
   "id": "36a3141b",
   "metadata": {},
   "source": [
    "## Data Source: Frames of a Video\n",
    "\n",
    "Visual images are an important part of all media and Data Scientists are often using images as data sources.  In this MicroProject, you will create a simple model to detect the amount of time spent in two different \"scenes\" we used when creating office-hour style videos for Data Science DISCOVERY.  To do this, you will learn how to import an entire folder of images, preform image analysis, and create your own model without using a pre-build library.  Let's nerd out! :)\n",
    "\n",
    "> *This MicroProject was inspired by a podcast that we recently recorded with the team from the Center for Innovation in Teaching and Learning who helped produce our video.  To learn the background and hear from Karle and Wade about the journey of creating DISCOVERY, go over and listen to our episode on the \"Teach Talk Listen Learn Podcast\" where talk with TTLL host Bob Dignan and our CITL video producer Eric Schumacher: https://citl.illinois.edu/citl-101/teaching-learning/teach-talk-listen-learn*"
   ]
  },
  {
   "cell_type": "markdown",
   "id": "a8817c8e",
   "metadata": {},
   "source": [
    "## Loading Video Frames\n",
    "\n",
    "We have provided you with one frame every second from our video [*\"Outliers Impact on Correlation (m6-02b)\"*](https://www.youtube.com/watch?v=bd6hQ2UcIJc) that is used as part of our [DISCOVERY lecture covering Correlation](https://discovery.cs.illinois.edu/learn/Towards-Machine-Learning/Correlation/).  Each of these frames are in the `frames` sub-folder.\n",
    "\n",
    "The `skimage` library is commonly used to load image data into Python.  Specifically:\n",
    "\n",
    "- The full function name we will be using is `skimage.io.imread(filename)`.  This function will read a filename and return the pixel color for every pixel in the image.\n",
    "\n",
    "- To use the `imread` function, you will need to either do one of the following:\n",
    "\n",
    "    1. Import the entire `skimage` library by using the import line: `import skimage`.  After importing all of `skimage`, you will call the function using it's fully qualified name: `skimage.io.imread(filename)`.\n",
    "    \n",
    "    **ALTERATIVELY**\n",
    "    \n",
    "    2. Import only the `imread` function by using the more specific import line: `from sklearn.io import imread`.  After importing only `imread`, you will call the function directly: `imread(filename)`\n",
    "\n",
    "    *(People's preference differs on how they prefer to import and use libraries.  Both techniques work! :))*\n",
    "\n",
    "### Read Pixel Data for `frames/frame_0001.jpg`\n",
    "\n",
    "As noted earlier, we have provided a `frames` directory with all of the frames.\n",
    "\n",
    "In the following cell, store the pixel color data from the file named `frames/frame_0001.jpg` image in the variable `pixels` by using the `imread` function:"
   ]
  },
  {
   "cell_type": "code",
   "execution_count": 10,
   "id": "30fd6aeb",
   "metadata": {},
   "outputs": [],
   "source": [
    "### ASSIGNMENT CODE for Puzzle 1.1 ==\n",
    "from skimage.io import imread\n",
    "pixels = imread(\"frames/frame_0001.jpg\")"
   ]
  },
  {
   "cell_type": "markdown",
   "id": "20698266",
   "metadata": {},
   "source": [
    "### 🔬 Checkpoint Tests 🔬"
   ]
  },
  {
   "cell_type": "code",
   "execution_count": 11,
   "id": "196de671",
   "metadata": {},
   "outputs": [
    {
     "name": "stdout",
     "output_type": "stream",
     "text": [
      "🎉 All Tests Passed! 🎉\n"
     ]
    }
   ],
   "source": [
    "### TEST CASE for Puzzle 1.1 ==\n",
    "## == CHECKPOINT TESTS ==\n",
    "# - This read-only cell contains a \"checkpoint\" for this section of the MicroProejct and verifies you are on the right track.\n",
    "# - If this cell results in a celebration message, you PASSED all test cases!\n",
    "# - If this cell results in any errors, check you previous cells, make changes, and RE-RUN your code and then this cell.\n",
    "tada = \"\\N{PARTY POPPER}\"\n",
    "\n",
    "assert(\"pixels\" in vars())\n",
    "assert(pixels.shape == (360, 640, 3))\n",
    "assert(pixels[0][0][0] == 91)\n",
    "\n",
    "print(f\"{tada} All Tests Passed! {tada}\")"
   ]
  },
  {
   "cell_type": "markdown",
   "id": "029475bd",
   "metadata": {},
   "source": [
    "<hr style=\"color: #DD3403;\">"
   ]
  },
  {
   "cell_type": "markdown",
   "id": "395b5558",
   "metadata": {},
   "source": [
    "## Part 1: Storing Average Pixel Color\n",
    "\n",
    "The **shape** of your data is the `rows` by `columns` by `color values` as 3-dimensional list.  Here's a formatted view of your `pixels` data:\n",
    "\n",
    "```\n",
    "[\n",
    "  [ [91, 83, 80], [91, 83, 80], [91, 83, 80] ], ... ],   # Row #1\n",
    "  [ [91, 83, 80], [91, 83, 80], [91, 83, 80] ], ... ],   # Row #2\n",
    "  ...                                                    # ...\n",
    "]\n",
    "```\n",
    "\n",
    "The current shape of `pixels` is 360 rows by 640 columns by 3 colors (`360` x `640` x `3`).  Each of the three colors represent the three color channels on a screen: red, green, and blue.\n",
    "\n",
    "Using `pixel.mean()`, we find the average color grouping **ALL** the color channels (combining blues and reds and greens together).  Try it out:"
   ]
  },
  {
   "cell_type": "code",
   "execution_count": null,
   "id": "c848a5a1",
   "metadata": {},
   "outputs": [],
   "source": [
    "pixels.mean()"
   ]
  },
  {
   "cell_type": "markdown",
   "id": "227039f6",
   "metadata": {},
   "source": [
    "This value is not very useful.  It is the average of red, green, and blue all lumped together -- it would be far more useful to find the average **red**, average **green**, and average **blue** independently.\n",
    "\n",
    "To do that, we first need to \"flatten\" the list so that we have a list of only color data instead of a list of rows, columns, and then color data.  That means we want our list to look like the following:\n",
    "\n",
    "```\n",
    "[\n",
    "  [ 91, 83, 80 ],    # Pixel #1 color data\n",
    "  [ 91, 83, 80 ],    # Pixel #2 color data\n",
    "  [ 91, 83, 80 ],    # Pixel #3 color data\n",
    "  ...\n",
    "]\n",
    "```\n",
    "\n",
    "### Using `pixels.reshape()`\n",
    "\n",
    "Now that we have the desired shape of the list, the `reshape` function can do the hard work!  We know we want the final shape to be `?`x `3`.  As long as you only have one unknown dimensions, Python allows you to provide a `-1` and it will place all of the data there.\n",
    "\n",
    "That means `pixels.reshape(-1, 3)` will reshape our list to be a single long list of color data.  Let's try out that transformation:"
   ]
  },
  {
   "cell_type": "code",
   "execution_count": 12,
   "id": "f307323e",
   "metadata": {},
   "outputs": [
    {
     "data": {
      "text/plain": [
       "array([[ 91,  83,  80],\n",
       "       [ 91,  83,  80],\n",
       "       [ 91,  83,  80],\n",
       "       ...,\n",
       "       [162, 131, 110],\n",
       "       [162, 131, 110],\n",
       "       [162, 131, 110]], dtype=uint8)"
      ]
     },
     "execution_count": 12,
     "metadata": {},
     "output_type": "execute_result"
    }
   ],
   "source": [
    "### ASSIGNMENT CODE for Puzzle 1.1 ==\n",
    "pixels = pixels.reshape(-1, 3)\n",
    "pixels"
   ]
  },
  {
   "cell_type": "markdown",
   "id": "af9eb8c0",
   "metadata": {},
   "source": [
    "Finally, we want the average value of each element of the list.  To do this, `pixels.mean(axis=0)` finds the average color of each element of our newly formatted list of pixels:"
   ]
  },
  {
   "cell_type": "code",
   "execution_count": 13,
   "id": "8f5402c8",
   "metadata": {},
   "outputs": [
    {
     "data": {
      "text/plain": [
       "array([88.65917535, 67.45620226, 60.4249783 ])"
      ]
     },
     "execution_count": 13,
     "metadata": {},
     "output_type": "execute_result"
    }
   ],
   "source": [
    "### ASSIGNMENT CODE for Puzzle 1.1 ==\n",
    "pixels.mean(axis=0)"
   ]
  },
  {
   "cell_type": "markdown",
   "id": "61973890",
   "metadata": {},
   "source": [
    "### Puzzle 1.1: Finding the Average Color of One Image\n",
    "\n",
    "Given the output you learned above, write the Python code to store `pixel`'s average red value in `r`, average green value in `g`, and average blue value in `b`:"
   ]
  },
  {
   "cell_type": "code",
   "execution_count": 14,
   "id": "01f99f7b",
   "metadata": {},
   "outputs": [],
   "source": [
    "### ASSIGNMENT CODE for Puzzle 1.1 ==\n",
    "r,g,b = pixels.mean(axis=0)"
   ]
  },
  {
   "cell_type": "code",
   "execution_count": 15,
   "id": "6121427c",
   "metadata": {},
   "outputs": [
    {
     "name": "stdout",
     "output_type": "stream",
     "text": [
      "🎉 All Tests Passed! 🎉\n"
     ]
    }
   ],
   "source": [
    "### TEST CASE for Puzzle 1.1 ==\n",
    "## == CHECKPOINT TESTS ==\n",
    "# - This read-only cell contains a \"checkpoint\" for this section of the MicroProejct and verifies you are on the right track.\n",
    "# - If this cell results in a celebration message, you PASSED all test cases!\n",
    "# - If this cell results in any errors, check you previous cells, make changes, and RE-RUN your code and then this cell.\n",
    "tada = \"\\N{PARTY POPPER}\"\n",
    "\n",
    "import math\n",
    "assert(\"r\" in vars())\n",
    "assert(\"g\" in vars())\n",
    "assert(\"b\" in vars())\n",
    "assert(r > 88 and r < 89)\n",
    "assert(g > 67 and g < 68)\n",
    "assert(b > 60 and b < 61)\n",
    "\n",
    "print(f\"{tada} All Tests Passed! {tada}\")"
   ]
  },
  {
   "cell_type": "markdown",
   "id": "01e04a6d",
   "metadata": {},
   "source": [
    "### Puzzle 1.2: Finding the Average Color of All Images\n",
    "\n",
    "The following code loops through every file in the `frames` directory -- this will include `frame_0001.jpg` (like you analyzed already) and also `frame_0002.jpg`, `frame_0003.jpg`, and all 300+ frames!\n",
    "\n",
    "Create a DataFrame where each row is one frame with the following four columns:\n",
    "- `frame`, the filename of the frame\n",
    "- `r`, the average red color of the frame\n",
    "- `g`, the average green color of the frame\n",
    "- `b`, the average blue color of the frame\n",
    "\n",
    "The structure of the code should be nearly **identical to writing a simulation**.  For \"Step 3\" when you would normally simulate a random variable for the real-world event, you should instead use the real world data.  This real world data will be filename `frame`, and the `r`, `g`, and `b` values should be the average color of that frame.\n",
    "\n",
    "- See: https://discovery.cs.illinois.edu/learn/Simulation-and-Distributions/Simple-Simulations-in-Python/"
   ]
  },
  {
   "cell_type": "code",
   "execution_count": 20,
   "id": "8b39310e",
   "metadata": {},
   "outputs": [],
   "source": [
    "### ASSIGNMENT CODE for Puzzle 1.2 ==\n",
    "import glob\n",
    "import os\n",
    "import pandas as pd\n",
    "\n",
    "data = []\n",
    "for frame in glob.glob(os.path.join(\"frames\", \"*.jpg\")): \n",
    "  # `frame`` contains the filename of the frame (ex: \"frames/frame_0001.jpg\").  Use it for `imread` to read the frame image data.\n",
    "    pix_data = imread(frame)\n",
    "    r,g,b = pix_data.mean(axis=0).mean(axis=0)\n",
    "    data.append({\n",
    "        \"frame\": frame,\n",
    "        \"r\": r,\n",
    "        \"g\": g,\n",
    "        \"b\": b\n",
    "    })\n",
    "\n",
    "df = pd.DataFrame(data)"
   ]
  },
  {
   "cell_type": "markdown",
   "id": "e7f4e3b3",
   "metadata": {},
   "source": [
    "### 🔬 Checkpoint Tests 🔬"
   ]
  },
  {
   "cell_type": "code",
   "execution_count": 21,
   "id": "61ad65f3",
   "metadata": {},
   "outputs": [
    {
     "name": "stdout",
     "output_type": "stream",
     "text": [
      "🎉 All Tests Passed! 🎉\n"
     ]
    }
   ],
   "source": [
    "### TEST CASE for Puzzle 1.2 ==\n",
    "## == CHECKPOINT TESTS ==\n",
    "# - This read-only cell contains a \"checkpoint\" for this section of the MicroProejct and verifies you are on the right track.\n",
    "# - If this cell results in a celebration message, you PASSED all test cases!\n",
    "# - If this cell results in any errors, check you previous cells, make changes, and RE-RUN your code and then this cell.\n",
    "tada = \"\\N{PARTY POPPER}\"\n",
    "\n",
    "import math\n",
    "assert(\"df\" in vars())\n",
    "assert(len(df) == 330)\n",
    "assert(\"r\" in df)\n",
    "assert(\"g\" in df)\n",
    "assert(\"b\" in df)\n",
    "assert(\"frame\" in df)\n",
    "assert( abs( df[ df.frame.str.endswith(\"_0001.jpg\") ][\"r\"].sum() - 88 ) < 1 )\n",
    "\n",
    "print(f\"{tada} All Tests Passed! {tada}\")"
   ]
  },
  {
   "cell_type": "markdown",
   "id": "72a51077",
   "metadata": {},
   "source": [
    "<hr style=\"color: #DD3403;\">"
   ]
  },
  {
   "cell_type": "markdown",
   "id": "370be1fb",
   "metadata": {},
   "source": [
    "## Part 2: Create a Simple Classifier\n",
    "\n",
    "In the DISCOVERY lecture videos, there are two primary \"scenes\" in the video:\n",
    "\n",
    "1. **\"Office Hours Studio Scene\"**, where Karle and Wade are talking to each other and the audience,\n",
    "\n",
    "2. **\"Notebook Scene\"**, where the notebook is displayed\n",
    "\n",
    "View the `frames` folder on your computer and find **at least three more frames** that are in the \"office hours studio scene\" and **at least three more frames** that are in the \"notebook scene\".  Add the frames you found to the list below:"
   ]
  },
  {
   "cell_type": "code",
   "execution_count": 22,
   "id": "8f1db50c",
   "metadata": {},
   "outputs": [],
   "source": [
    "### ASSIGNMENT CODE for Puzzle 2.1 ==\n",
    "# List of at least four office hour frames by the filename's frame number:\n",
    "office_hour_frames = [1, 2, 18, 28]\n",
    "\n",
    "# List of at least four notebook frames by the filename's frame number:\n",
    "notebook_frames = [34, 43, 51, 59]"
   ]
  },
  {
   "cell_type": "markdown",
   "id": "b1eed1c9",
   "metadata": {},
   "source": [
    "### Observing the Average Colors of Your Frames\n",
    "\n",
    "The following code uses your sample frames to display the average color values for your selected frames.  This information about the average color of the two different type of frames will be useful for you to build the classifier in the next section.\n",
    "\n",
    "You may want to add more frames into your list above to get more data to help build your classifier.  Run the following code to see the average color values:"
   ]
  },
  {
   "cell_type": "code",
   "execution_count": 23,
   "id": "5521f20b",
   "metadata": {},
   "outputs": [
    {
     "name": "stdout",
     "output_type": "stream",
     "text": [
      "== Office Hour Frames ==\n",
      "                     frame          r          g          b\n",
      "32   frames/frame_0018.jpg  90.887626  65.819722  58.584336\n",
      "59   frames/frame_0028.jpg  88.648290  68.291619  60.394323\n",
      "90   frames/frame_0002.jpg  88.697865  67.453529  60.475660\n",
      "111  frames/frame_0001.jpg  88.659175  67.456202  60.424978\n",
      "\n",
      "== Notebook Frames ==\n",
      "                     frame           r           g           b\n",
      "2    frames/frame_0051.jpg  233.166128  232.567852  232.814297\n",
      "113  frames/frame_0034.jpg  237.047144  236.413112  236.723785\n",
      "182  frames/frame_0043.jpg  233.114714  232.519796  232.737435\n",
      "292  frames/frame_0059.jpg  230.963220  230.446649  230.651185\n"
     ]
    }
   ],
   "source": [
    "import os\n",
    "\n",
    "print(\"== Office Hour Frames ==\")\n",
    "print( df[ df[\"frame\"].isin( [os.path.join(\"frames\", f\"frame_{frame:04d}.jpg\") for frame in office_hour_frames]) ] )\n",
    "print()\n",
    "print(\"== Notebook Frames ==\")\n",
    "print( df[ df[\"frame\"].isin( [os.path.join(\"frames\", f\"frame_{frame:04d}.jpg\") for frame in notebook_frames]) ] )"
   ]
  },
  {
   "cell_type": "markdown",
   "id": "a1aa16d1",
   "metadata": {},
   "source": [
    "### Create Your Classifier Function\n",
    "\n",
    "A **classifier function** is a function that takes data and gives a classification for that data.  Create a new function, `classifyFrame` that receives an `r`, `g`, and `b` value.\n",
    "\n",
    "Using information from your frames above, have the function return the string `\"office hour\"` or `\"notebook\"` based on the values of `r`, `g`, and `b`.\n",
    "\n",
    "**IMPORTANT**: Make sure your classifier can handle **ANY** input -- even frames you have not seen before!  For example, you might decide that you will call a frame an `\"office hour\"` frame if the sum of `r`, `g` and `b` is greater than 100 and otherwise it's a `\"notebook\"` scene."
   ]
  },
  {
   "cell_type": "code",
   "execution_count": 32,
   "id": "16aad340",
   "metadata": {},
   "outputs": [],
   "source": [
    "### ASSIGNMENT CODE for Puzzle 2.1 ==\n",
    "def classifyFrame(r, g, b):\n",
    "  # Return either \"office hour\" or \"notebook\" based on the values of `r`, `g`, and `b`.\n",
    "    if (\n",
    "        (r >= 220) and\n",
    "        (g >= 220) and\n",
    "        (b >= 220)\n",
    "    ):\n",
    "        return \"notebook\"\n",
    "    return \"office hour\""
   ]
  },
  {
   "cell_type": "markdown",
   "id": "5ec88d15",
   "metadata": {},
   "source": [
    "### 🔬 Checkpoint Tests 🔬"
   ]
  },
  {
   "cell_type": "code",
   "execution_count": 33,
   "id": "a1ee597a",
   "metadata": {},
   "outputs": [
    {
     "name": "stdout",
     "output_type": "stream",
     "text": [
      "🎉 All Tests Passed! 🎉\n"
     ]
    }
   ],
   "source": [
    "### TEST CASE for Puzzle 2.1 ==\n",
    "## == CHECKPOINT TESTS ==\n",
    "# - This read-only cell contains a \"checkpoint\" for this section of the MicroProejct and verifies you are on the right track.\n",
    "# - If this cell results in a celebration message, you PASSED all test cases!\n",
    "# - If this cell results in any errors, check you previous cells, make changes, and RE-RUN your code and then this cell.\n",
    "tada = \"\\N{PARTY POPPER}\"\n",
    "\n",
    "r = classifyFrame(0, 0, 0)\n",
    "assert(r == \"notebook\" or r == \"office hour\")\n",
    "\n",
    "r = classifyFrame(255, 255, 255)\n",
    "assert(r == \"notebook\" or r == \"office hour\")\n",
    "\n",
    "r = classifyFrame(0, 255, 255)\n",
    "assert(r == \"notebook\" or r == \"office hour\")\n",
    "\n",
    "r = classifyFrame(255, 255, 0)\n",
    "assert(r == \"notebook\" or r == \"office hour\")\n",
    "\n",
    "print(f\"{tada} All Tests Passed! {tada}\")"
   ]
  },
  {
   "cell_type": "markdown",
   "id": "d9a2c4bf",
   "metadata": {},
   "source": [
    "<hr style=\"color: #DD3403;\">"
   ]
  },
  {
   "cell_type": "markdown",
   "id": "b2f84761",
   "metadata": {},
   "source": [
    "## Part 3: Using Your Classifier!\n",
    "\n",
    "Now that we have a classifier, we should run it on every frame!\n",
    "\n",
    "The following cell runs your `classifyFrame` classifier on every frame and adds a new column `scene` and displayed 20 random rows:"
   ]
  },
  {
   "cell_type": "code",
   "execution_count": 34,
   "id": "00791a8d",
   "metadata": {},
   "outputs": [
    {
     "data": {
      "text/html": [
       "<div>\n",
       "<style scoped>\n",
       "    .dataframe tbody tr th:only-of-type {\n",
       "        vertical-align: middle;\n",
       "    }\n",
       "\n",
       "    .dataframe tbody tr th {\n",
       "        vertical-align: top;\n",
       "    }\n",
       "\n",
       "    .dataframe thead th {\n",
       "        text-align: right;\n",
       "    }\n",
       "</style>\n",
       "<table border=\"1\" class=\"dataframe\">\n",
       "  <thead>\n",
       "    <tr style=\"text-align: right;\">\n",
       "      <th></th>\n",
       "      <th>frame</th>\n",
       "      <th>r</th>\n",
       "      <th>g</th>\n",
       "      <th>b</th>\n",
       "      <th>scene</th>\n",
       "    </tr>\n",
       "  </thead>\n",
       "  <tbody>\n",
       "    <tr>\n",
       "      <th>320</th>\n",
       "      <td>frames/frame_0308.jpg</td>\n",
       "      <td>89.478576</td>\n",
       "      <td>70.244049</td>\n",
       "      <td>62.887799</td>\n",
       "      <td>office hour</td>\n",
       "    </tr>\n",
       "    <tr>\n",
       "      <th>120</th>\n",
       "      <td>frames/frame_0133.jpg</td>\n",
       "      <td>87.152717</td>\n",
       "      <td>67.500911</td>\n",
       "      <td>60.329288</td>\n",
       "      <td>office hour</td>\n",
       "    </tr>\n",
       "    <tr>\n",
       "      <th>271</th>\n",
       "      <td>frames/frame_0207.jpg</td>\n",
       "      <td>238.582687</td>\n",
       "      <td>237.834761</td>\n",
       "      <td>235.548589</td>\n",
       "      <td>notebook</td>\n",
       "    </tr>\n",
       "    <tr>\n",
       "      <th>72</th>\n",
       "      <td>frames/frame_0229.jpg</td>\n",
       "      <td>244.641215</td>\n",
       "      <td>243.987899</td>\n",
       "      <td>242.140547</td>\n",
       "      <td>notebook</td>\n",
       "    </tr>\n",
       "    <tr>\n",
       "      <th>163</th>\n",
       "      <td>frames/frame_0035.jpg</td>\n",
       "      <td>236.984983</td>\n",
       "      <td>236.333863</td>\n",
       "      <td>236.670365</td>\n",
       "      <td>notebook</td>\n",
       "    </tr>\n",
       "    <tr>\n",
       "      <th>4</th>\n",
       "      <td>frames/frame_0119.jpg</td>\n",
       "      <td>88.506133</td>\n",
       "      <td>68.405395</td>\n",
       "      <td>61.006675</td>\n",
       "      <td>office hour</td>\n",
       "    </tr>\n",
       "    <tr>\n",
       "      <th>319</th>\n",
       "      <td>frames/frame_0189.jpg</td>\n",
       "      <td>233.106046</td>\n",
       "      <td>232.358021</td>\n",
       "      <td>230.135013</td>\n",
       "      <td>notebook</td>\n",
       "    </tr>\n",
       "    <tr>\n",
       "      <th>62</th>\n",
       "      <td>frames/frame_0139.jpg</td>\n",
       "      <td>88.495469</td>\n",
       "      <td>68.667118</td>\n",
       "      <td>61.208329</td>\n",
       "      <td>office hour</td>\n",
       "    </tr>\n",
       "    <tr>\n",
       "      <th>311</th>\n",
       "      <td>frames/frame_0181.jpg</td>\n",
       "      <td>233.201115</td>\n",
       "      <td>232.446901</td>\n",
       "      <td>230.222227</td>\n",
       "      <td>notebook</td>\n",
       "    </tr>\n",
       "    <tr>\n",
       "      <th>100</th>\n",
       "      <td>frames/frame_0254.jpg</td>\n",
       "      <td>244.168351</td>\n",
       "      <td>243.404175</td>\n",
       "      <td>241.751085</td>\n",
       "      <td>notebook</td>\n",
       "    </tr>\n",
       "    <tr>\n",
       "      <th>239</th>\n",
       "      <td>frames/frame_0166.jpg</td>\n",
       "      <td>89.799861</td>\n",
       "      <td>69.913568</td>\n",
       "      <td>61.715846</td>\n",
       "      <td>office hour</td>\n",
       "    </tr>\n",
       "    <tr>\n",
       "      <th>154</th>\n",
       "      <td>frames/frame_0291.jpg</td>\n",
       "      <td>242.136910</td>\n",
       "      <td>240.985764</td>\n",
       "      <td>239.690690</td>\n",
       "      <td>notebook</td>\n",
       "    </tr>\n",
       "    <tr>\n",
       "      <th>114</th>\n",
       "      <td>frames/frame_0278.jpg</td>\n",
       "      <td>243.217405</td>\n",
       "      <td>242.199666</td>\n",
       "      <td>240.911076</td>\n",
       "      <td>notebook</td>\n",
       "    </tr>\n",
       "    <tr>\n",
       "      <th>275</th>\n",
       "      <td>frames/frame_0036.jpg</td>\n",
       "      <td>236.922756</td>\n",
       "      <td>236.294588</td>\n",
       "      <td>236.619852</td>\n",
       "      <td>notebook</td>\n",
       "    </tr>\n",
       "    <tr>\n",
       "      <th>167</th>\n",
       "      <td>frames/frame_0169.jpg</td>\n",
       "      <td>90.173012</td>\n",
       "      <td>69.815052</td>\n",
       "      <td>61.782305</td>\n",
       "      <td>office hour</td>\n",
       "    </tr>\n",
       "    <tr>\n",
       "      <th>67</th>\n",
       "      <td>frames/frame_0130.jpg</td>\n",
       "      <td>87.576359</td>\n",
       "      <td>67.667370</td>\n",
       "      <td>60.460968</td>\n",
       "      <td>office hour</td>\n",
       "    </tr>\n",
       "    <tr>\n",
       "      <th>81</th>\n",
       "      <td>frames/frame_0158.jpg</td>\n",
       "      <td>229.913984</td>\n",
       "      <td>229.042569</td>\n",
       "      <td>226.666263</td>\n",
       "      <td>notebook</td>\n",
       "    </tr>\n",
       "    <tr>\n",
       "      <th>164</th>\n",
       "      <td>frames/frame_0282.jpg</td>\n",
       "      <td>243.228594</td>\n",
       "      <td>242.192682</td>\n",
       "      <td>240.912921</td>\n",
       "      <td>notebook</td>\n",
       "    </tr>\n",
       "    <tr>\n",
       "      <th>37</th>\n",
       "      <td>frames/frame_0225.jpg</td>\n",
       "      <td>244.648372</td>\n",
       "      <td>243.990382</td>\n",
       "      <td>242.127122</td>\n",
       "      <td>notebook</td>\n",
       "    </tr>\n",
       "    <tr>\n",
       "      <th>269</th>\n",
       "      <td>frames/frame_0116.jpg</td>\n",
       "      <td>88.151432</td>\n",
       "      <td>68.003542</td>\n",
       "      <td>60.601997</td>\n",
       "      <td>office hour</td>\n",
       "    </tr>\n",
       "  </tbody>\n",
       "</table>\n",
       "</div>"
      ],
      "text/plain": [
       "                     frame           r           g           b        scene\n",
       "320  frames/frame_0308.jpg   89.478576   70.244049   62.887799  office hour\n",
       "120  frames/frame_0133.jpg   87.152717   67.500911   60.329288  office hour\n",
       "271  frames/frame_0207.jpg  238.582687  237.834761  235.548589     notebook\n",
       "72   frames/frame_0229.jpg  244.641215  243.987899  242.140547     notebook\n",
       "163  frames/frame_0035.jpg  236.984983  236.333863  236.670365     notebook\n",
       "4    frames/frame_0119.jpg   88.506133   68.405395   61.006675  office hour\n",
       "319  frames/frame_0189.jpg  233.106046  232.358021  230.135013     notebook\n",
       "62   frames/frame_0139.jpg   88.495469   68.667118   61.208329  office hour\n",
       "311  frames/frame_0181.jpg  233.201115  232.446901  230.222227     notebook\n",
       "100  frames/frame_0254.jpg  244.168351  243.404175  241.751085     notebook\n",
       "239  frames/frame_0166.jpg   89.799861   69.913568   61.715846  office hour\n",
       "154  frames/frame_0291.jpg  242.136910  240.985764  239.690690     notebook\n",
       "114  frames/frame_0278.jpg  243.217405  242.199666  240.911076     notebook\n",
       "275  frames/frame_0036.jpg  236.922756  236.294588  236.619852     notebook\n",
       "167  frames/frame_0169.jpg   90.173012   69.815052   61.782305  office hour\n",
       "67   frames/frame_0130.jpg   87.576359   67.667370   60.460968  office hour\n",
       "81   frames/frame_0158.jpg  229.913984  229.042569  226.666263     notebook\n",
       "164  frames/frame_0282.jpg  243.228594  242.192682  240.912921     notebook\n",
       "37   frames/frame_0225.jpg  244.648372  243.990382  242.127122     notebook\n",
       "269  frames/frame_0116.jpg   88.151432   68.003542   60.601997  office hour"
      ]
     },
     "execution_count": 34,
     "metadata": {},
     "output_type": "execute_result"
    }
   ],
   "source": [
    "### ASSIGNMENT CODE for Puzzle 3.1 ==\n",
    "df[\"scene\"] = df.apply(lambda row: classifyFrame(row.r, row.g, row.b), axis=1)\n",
    "df.sample(20)"
   ]
  },
  {
   "cell_type": "markdown",
   "id": "60a211e6",
   "metadata": {},
   "source": [
    "### 🔬 Checkpoint Tests 🔬"
   ]
  },
  {
   "cell_type": "code",
   "execution_count": 35,
   "id": "43e07bde",
   "metadata": {},
   "outputs": [
    {
     "name": "stdout",
     "output_type": "stream",
     "text": [
      "🎉 All Tests Passed! 🎉\n"
     ]
    }
   ],
   "source": [
    "### TEST CASE for Puzzle 3.1 ==\n",
    "## == CHECKPOINT TESTS ==\n",
    "# - This read-only cell contains a \"checkpoint\" for this section of the MicroProejct and verifies you are on the right track.\n",
    "# - If this cell results in a celebration message, you PASSED all test cases!\n",
    "# - If this cell results in any errors, check you previous cells, make changes, and RE-RUN your code and then this cell.\n",
    "tada = \"\\N{PARTY POPPER}\"\n",
    "\n",
    "assert(\"scene\" in df)\n",
    "\n",
    "assert(len(df[ df.scene == \"notebook\" ]) > 100), \"There are more than 100 frames that are clearly the notebook.  Make sure your classifier is able to pick up the notebook scene accurately.\"\n",
    "assert(len(df[ df.scene == \"office hour\" ]) > 75), \"There are more than 75 frames that are clearly the office hour set.  Make sure your classifier is able to pick up the office hour set scene accurately.\"\n",
    "assert(len(df[ df.scene == \"notebook\" ]) + len(df[ df.scene == \"office hour\" ]) == len(df)), \"Your classifier should must always identify a scene as either a notebook or office hour.  Make sure your classifier always returns one of those two values.\"\n",
    "\n",
    "assert( len( df[ (df.frame.str.endswith(\"0001.jpg\")) & (df.scene == \"office hour\") ] ) == 1 )\n",
    "assert( len( df[ (df.frame.str.endswith(\"0306.jpg\")) & (df.scene == \"office hour\") ] ) == 1 )\n",
    "assert( len( df[ (df.frame.str.endswith(\"0081.jpg\")) & (df.scene == \"notebook\") ] ) == 1 )\n",
    "assert( len( df[ (df.frame.str.endswith(\"0191.jpg\")) & (df.scene == \"notebook\") ] ) == 1 )\n",
    "\n",
    "print(f\"{tada} All Tests Passed! {tada}\")"
   ]
  },
  {
   "cell_type": "markdown",
   "id": "e0876532",
   "metadata": {},
   "source": [
    "## Observing Results\n",
    "\n",
    "In the next 5 cells, we display a frame and you'll run code to check what your classifier classified the frame as being!  Make sure to run the code for each frame:"
   ]
  },
  {
   "cell_type": "markdown",
   "id": "fb222e94",
   "metadata": {},
   "source": [
    "### Frame #0001: Office Hours"
   ]
  },
  {
   "cell_type": "code",
   "execution_count": 36,
   "id": "053dbb42",
   "metadata": {},
   "outputs": [
    {
     "data": {
      "text/html": [
       "<div>\n",
       "<style scoped>\n",
       "    .dataframe tbody tr th:only-of-type {\n",
       "        vertical-align: middle;\n",
       "    }\n",
       "\n",
       "    .dataframe tbody tr th {\n",
       "        vertical-align: top;\n",
       "    }\n",
       "\n",
       "    .dataframe thead th {\n",
       "        text-align: right;\n",
       "    }\n",
       "</style>\n",
       "<table border=\"1\" class=\"dataframe\">\n",
       "  <thead>\n",
       "    <tr style=\"text-align: right;\">\n",
       "      <th></th>\n",
       "      <th>frame</th>\n",
       "      <th>r</th>\n",
       "      <th>g</th>\n",
       "      <th>b</th>\n",
       "      <th>scene</th>\n",
       "    </tr>\n",
       "  </thead>\n",
       "  <tbody>\n",
       "    <tr>\n",
       "      <th>111</th>\n",
       "      <td>frames/frame_0001.jpg</td>\n",
       "      <td>88.659175</td>\n",
       "      <td>67.456202</td>\n",
       "      <td>60.424978</td>\n",
       "      <td>office hour</td>\n",
       "    </tr>\n",
       "  </tbody>\n",
       "</table>\n",
       "</div>"
      ],
      "text/plain": [
       "                     frame          r          g          b        scene\n",
       "111  frames/frame_0001.jpg  88.659175  67.456202  60.424978  office hour"
      ]
     },
     "execution_count": 36,
     "metadata": {},
     "output_type": "execute_result"
    }
   ],
   "source": [
    "df[ df.frame.str.endswith(\"0001.jpg\") ]"
   ]
  },
  {
   "cell_type": "markdown",
   "id": "8daec11d",
   "metadata": {},
   "source": [
    "![Frame 0001](frames/frame_0001.jpg)"
   ]
  },
  {
   "cell_type": "markdown",
   "id": "da2443c7",
   "metadata": {},
   "source": [
    "### Frame #0081: Notebook"
   ]
  },
  {
   "cell_type": "code",
   "execution_count": 37,
   "id": "4d3814cc",
   "metadata": {},
   "outputs": [
    {
     "data": {
      "text/html": [
       "<div>\n",
       "<style scoped>\n",
       "    .dataframe tbody tr th:only-of-type {\n",
       "        vertical-align: middle;\n",
       "    }\n",
       "\n",
       "    .dataframe tbody tr th {\n",
       "        vertical-align: top;\n",
       "    }\n",
       "\n",
       "    .dataframe thead th {\n",
       "        text-align: right;\n",
       "    }\n",
       "</style>\n",
       "<table border=\"1\" class=\"dataframe\">\n",
       "  <thead>\n",
       "    <tr style=\"text-align: right;\">\n",
       "      <th></th>\n",
       "      <th>frame</th>\n",
       "      <th>r</th>\n",
       "      <th>g</th>\n",
       "      <th>b</th>\n",
       "      <th>scene</th>\n",
       "    </tr>\n",
       "  </thead>\n",
       "  <tbody>\n",
       "    <tr>\n",
       "      <th>208</th>\n",
       "      <td>frames/frame_0081.jpg</td>\n",
       "      <td>230.721385</td>\n",
       "      <td>229.915091</td>\n",
       "      <td>230.48303</td>\n",
       "      <td>notebook</td>\n",
       "    </tr>\n",
       "  </tbody>\n",
       "</table>\n",
       "</div>"
      ],
      "text/plain": [
       "                     frame           r           g          b     scene\n",
       "208  frames/frame_0081.jpg  230.721385  229.915091  230.48303  notebook"
      ]
     },
     "execution_count": 37,
     "metadata": {},
     "output_type": "execute_result"
    }
   ],
   "source": [
    "df[ df.frame.str.endswith(\"0081.jpg\") ]"
   ]
  },
  {
   "cell_type": "markdown",
   "id": "348a2855",
   "metadata": {},
   "source": [
    "![Frame 0001](frames/frame_0081.jpg)"
   ]
  },
  {
   "cell_type": "markdown",
   "id": "70d0346c",
   "metadata": {},
   "source": [
    "### Frame #0191: Notebook"
   ]
  },
  {
   "cell_type": "code",
   "execution_count": 38,
   "id": "9e2b0f67",
   "metadata": {},
   "outputs": [
    {
     "data": {
      "text/html": [
       "<div>\n",
       "<style scoped>\n",
       "    .dataframe tbody tr th:only-of-type {\n",
       "        vertical-align: middle;\n",
       "    }\n",
       "\n",
       "    .dataframe tbody tr th {\n",
       "        vertical-align: top;\n",
       "    }\n",
       "\n",
       "    .dataframe thead th {\n",
       "        text-align: right;\n",
       "    }\n",
       "</style>\n",
       "<table border=\"1\" class=\"dataframe\">\n",
       "  <thead>\n",
       "    <tr style=\"text-align: right;\">\n",
       "      <th></th>\n",
       "      <th>frame</th>\n",
       "      <th>r</th>\n",
       "      <th>g</th>\n",
       "      <th>b</th>\n",
       "      <th>scene</th>\n",
       "    </tr>\n",
       "  </thead>\n",
       "  <tbody>\n",
       "    <tr>\n",
       "      <th>125</th>\n",
       "      <td>frames/frame_0191.jpg</td>\n",
       "      <td>233.117088</td>\n",
       "      <td>232.354644</td>\n",
       "      <td>230.103359</td>\n",
       "      <td>notebook</td>\n",
       "    </tr>\n",
       "  </tbody>\n",
       "</table>\n",
       "</div>"
      ],
      "text/plain": [
       "                     frame           r           g           b     scene\n",
       "125  frames/frame_0191.jpg  233.117088  232.354644  230.103359  notebook"
      ]
     },
     "execution_count": 38,
     "metadata": {},
     "output_type": "execute_result"
    }
   ],
   "source": [
    "df[ df.frame.str.endswith(\"0191.jpg\") ]"
   ]
  },
  {
   "cell_type": "markdown",
   "id": "cbde42c3",
   "metadata": {},
   "source": [
    "![Frame 0001](frames/frame_0191.jpg)"
   ]
  },
  {
   "cell_type": "markdown",
   "id": "006383b4",
   "metadata": {},
   "source": [
    "### Frame #0306: Office Hours"
   ]
  },
  {
   "cell_type": "code",
   "execution_count": 39,
   "id": "b1201cf0",
   "metadata": {},
   "outputs": [
    {
     "data": {
      "text/html": [
       "<div>\n",
       "<style scoped>\n",
       "    .dataframe tbody tr th:only-of-type {\n",
       "        vertical-align: middle;\n",
       "    }\n",
       "\n",
       "    .dataframe tbody tr th {\n",
       "        vertical-align: top;\n",
       "    }\n",
       "\n",
       "    .dataframe thead th {\n",
       "        text-align: right;\n",
       "    }\n",
       "</style>\n",
       "<table border=\"1\" class=\"dataframe\">\n",
       "  <thead>\n",
       "    <tr style=\"text-align: right;\">\n",
       "      <th></th>\n",
       "      <th>frame</th>\n",
       "      <th>r</th>\n",
       "      <th>g</th>\n",
       "      <th>b</th>\n",
       "      <th>scene</th>\n",
       "    </tr>\n",
       "  </thead>\n",
       "  <tbody>\n",
       "    <tr>\n",
       "      <th>257</th>\n",
       "      <td>frames/frame_0306.jpg</td>\n",
       "      <td>89.403867</td>\n",
       "      <td>70.149223</td>\n",
       "      <td>62.83901</td>\n",
       "      <td>office hour</td>\n",
       "    </tr>\n",
       "  </tbody>\n",
       "</table>\n",
       "</div>"
      ],
      "text/plain": [
       "                     frame          r          g         b        scene\n",
       "257  frames/frame_0306.jpg  89.403867  70.149223  62.83901  office hour"
      ]
     },
     "execution_count": 39,
     "metadata": {},
     "output_type": "execute_result"
    }
   ],
   "source": [
    "df[ df.frame.str.endswith(\"0306.jpg\") ]"
   ]
  },
  {
   "cell_type": "markdown",
   "id": "4fe74fb6",
   "metadata": {},
   "source": [
    "![Frame 0001](frames/frame_0306.jpg)"
   ]
  },
  {
   "cell_type": "markdown",
   "id": "1bbda792",
   "metadata": {},
   "source": [
    "### Frame #0320: Data Science Duo Logo???\n",
    "\n",
    "What did you classify the DUO logo as?  It's nether one, but we don't have that option!"
   ]
  },
  {
   "cell_type": "code",
   "execution_count": 40,
   "id": "e7f39a9d",
   "metadata": {},
   "outputs": [
    {
     "data": {
      "text/html": [
       "<div>\n",
       "<style scoped>\n",
       "    .dataframe tbody tr th:only-of-type {\n",
       "        vertical-align: middle;\n",
       "    }\n",
       "\n",
       "    .dataframe tbody tr th {\n",
       "        vertical-align: top;\n",
       "    }\n",
       "\n",
       "    .dataframe thead th {\n",
       "        text-align: right;\n",
       "    }\n",
       "</style>\n",
       "<table border=\"1\" class=\"dataframe\">\n",
       "  <thead>\n",
       "    <tr style=\"text-align: right;\">\n",
       "      <th></th>\n",
       "      <th>frame</th>\n",
       "      <th>r</th>\n",
       "      <th>g</th>\n",
       "      <th>b</th>\n",
       "      <th>scene</th>\n",
       "    </tr>\n",
       "  </thead>\n",
       "  <tbody>\n",
       "    <tr>\n",
       "      <th>179</th>\n",
       "      <td>frames/frame_0320.jpg</td>\n",
       "      <td>221.227565</td>\n",
       "      <td>71.838433</td>\n",
       "      <td>54.457305</td>\n",
       "      <td>office hour</td>\n",
       "    </tr>\n",
       "  </tbody>\n",
       "</table>\n",
       "</div>"
      ],
      "text/plain": [
       "                     frame           r          g          b        scene\n",
       "179  frames/frame_0320.jpg  221.227565  71.838433  54.457305  office hour"
      ]
     },
     "execution_count": 40,
     "metadata": {},
     "output_type": "execute_result"
    }
   ],
   "source": [
    "df[ df.frame.str.endswith(\"0320.jpg\") ]"
   ]
  },
  {
   "cell_type": "markdown",
   "id": "78a193d4",
   "metadata": {},
   "source": [
    "![Frame 0001](frames/frame_0320.jpg)"
   ]
  },
  {
   "cell_type": "markdown",
   "id": "ed432961",
   "metadata": {},
   "source": [
    "### Frame #328: Video Credits\n",
    "\n",
    "What did you classify the video credits as?  It's another tricky one!"
   ]
  },
  {
   "cell_type": "code",
   "execution_count": 41,
   "id": "2fd2ee20",
   "metadata": {},
   "outputs": [
    {
     "data": {
      "text/html": [
       "<div>\n",
       "<style scoped>\n",
       "    .dataframe tbody tr th:only-of-type {\n",
       "        vertical-align: middle;\n",
       "    }\n",
       "\n",
       "    .dataframe tbody tr th {\n",
       "        vertical-align: top;\n",
       "    }\n",
       "\n",
       "    .dataframe thead th {\n",
       "        text-align: right;\n",
       "    }\n",
       "</style>\n",
       "<table border=\"1\" class=\"dataframe\">\n",
       "  <thead>\n",
       "    <tr style=\"text-align: right;\">\n",
       "      <th></th>\n",
       "      <th>frame</th>\n",
       "      <th>r</th>\n",
       "      <th>g</th>\n",
       "      <th>b</th>\n",
       "      <th>scene</th>\n",
       "    </tr>\n",
       "  </thead>\n",
       "  <tbody>\n",
       "    <tr>\n",
       "      <th>177</th>\n",
       "      <td>frames/frame_0328.jpg</td>\n",
       "      <td>7.480234</td>\n",
       "      <td>7.481519</td>\n",
       "      <td>7.487826</td>\n",
       "      <td>office hour</td>\n",
       "    </tr>\n",
       "  </tbody>\n",
       "</table>\n",
       "</div>"
      ],
      "text/plain": [
       "                     frame         r         g         b        scene\n",
       "177  frames/frame_0328.jpg  7.480234  7.481519  7.487826  office hour"
      ]
     },
     "execution_count": 41,
     "metadata": {},
     "output_type": "execute_result"
    }
   ],
   "source": [
    "df[ df.frame.str.endswith(\"0328.jpg\") ]"
   ]
  },
  {
   "cell_type": "markdown",
   "id": "719e10ed",
   "metadata": {},
   "source": [
    "![Frame 0328](frames/frame_0328.jpg)"
   ]
  },
  {
   "cell_type": "markdown",
   "id": "2588e129",
   "metadata": {},
   "source": [
    "<hr style=\"color: #DD3403;\">"
   ]
  },
  {
   "cell_type": "markdown",
   "id": "3b122edb",
   "metadata": {},
   "source": [
    "## Part 4: Update Your Classifier to Account with an \"Other\" Category\n",
    "\n",
    "Create a second classifier -- `classifyFrame2` -- that returns either `\"notebook\"`, `\"office hour\"` or `\"other\"`.  Your classifier should correctly handle the \"Data Science Duo\" (ex: #0320) frames and the \"Credit\" frames (ex: #0328)."
   ]
  },
  {
   "cell_type": "code",
   "execution_count": 54,
   "id": "bea07493",
   "metadata": {},
   "outputs": [],
   "source": [
    "### ASSIGNMENT CODE for Puzzle 4.1 ==\n",
    "def classifyFrame2(r, g, b):\n",
    "  # Return either \"office hour\" or \"notebook\" based on the values of `r`, `g`, and `b`.\n",
    "    if (\n",
    "        (r >= 220) and\n",
    "        (g >= 220) and\n",
    "        (b >= 220)\n",
    "    ):\n",
    "        return \"notebook\"\n",
    "    if (\n",
    "        #(r >= 80 and r <= 100) and\n",
    "        (g >= 50 and g <= 75) and\n",
    "        (b >= 45 and b <= 65)\n",
    "    ):\n",
    "        return \"office hour\"\n",
    "    return \"other\""
   ]
  },
  {
   "cell_type": "markdown",
   "id": "855f2db9",
   "metadata": {},
   "source": [
    "## Apply your `classifyFrame2` function\n",
    "\n",
    "Using `classifyFrame2`, this code replaces the value in the column `scene` with your `classifyFrame2` classification function.  The output of this cell shows the last frames of the video, which we expect to be `\"other\"`:"
   ]
  },
  {
   "cell_type": "code",
   "execution_count": 55,
   "id": "22e88484",
   "metadata": {},
   "outputs": [
    {
     "data": {
      "text/html": [
       "<div>\n",
       "<style scoped>\n",
       "    .dataframe tbody tr th:only-of-type {\n",
       "        vertical-align: middle;\n",
       "    }\n",
       "\n",
       "    .dataframe tbody tr th {\n",
       "        vertical-align: top;\n",
       "    }\n",
       "\n",
       "    .dataframe thead th {\n",
       "        text-align: right;\n",
       "    }\n",
       "</style>\n",
       "<table border=\"1\" class=\"dataframe\">\n",
       "  <thead>\n",
       "    <tr style=\"text-align: right;\">\n",
       "      <th></th>\n",
       "      <th>frame</th>\n",
       "      <th>r</th>\n",
       "      <th>g</th>\n",
       "      <th>b</th>\n",
       "      <th>scene</th>\n",
       "    </tr>\n",
       "  </thead>\n",
       "  <tbody>\n",
       "    <tr>\n",
       "      <th>310</th>\n",
       "      <td>frames/frame_0183.jpg</td>\n",
       "      <td>233.254275</td>\n",
       "      <td>232.474891</td>\n",
       "      <td>230.252852</td>\n",
       "      <td>notebook</td>\n",
       "    </tr>\n",
       "    <tr>\n",
       "      <th>311</th>\n",
       "      <td>frames/frame_0181.jpg</td>\n",
       "      <td>233.201115</td>\n",
       "      <td>232.446901</td>\n",
       "      <td>230.222227</td>\n",
       "      <td>notebook</td>\n",
       "    </tr>\n",
       "    <tr>\n",
       "      <th>312</th>\n",
       "      <td>frames/frame_0301.jpg</td>\n",
       "      <td>89.094145</td>\n",
       "      <td>70.042192</td>\n",
       "      <td>62.454501</td>\n",
       "      <td>office hour</td>\n",
       "    </tr>\n",
       "    <tr>\n",
       "      <th>313</th>\n",
       "      <td>frames/frame_0311.jpg</td>\n",
       "      <td>89.052721</td>\n",
       "      <td>70.084679</td>\n",
       "      <td>62.528559</td>\n",
       "      <td>office hour</td>\n",
       "    </tr>\n",
       "    <tr>\n",
       "      <th>314</th>\n",
       "      <td>frames/frame_0321.jpg</td>\n",
       "      <td>218.887899</td>\n",
       "      <td>80.898411</td>\n",
       "      <td>63.118472</td>\n",
       "      <td>other</td>\n",
       "    </tr>\n",
       "    <tr>\n",
       "      <th>315</th>\n",
       "      <td>frames/frame_0236.jpg</td>\n",
       "      <td>244.596463</td>\n",
       "      <td>243.932457</td>\n",
       "      <td>242.092279</td>\n",
       "      <td>notebook</td>\n",
       "    </tr>\n",
       "    <tr>\n",
       "      <th>316</th>\n",
       "      <td>frames/frame_0195.jpg</td>\n",
       "      <td>238.826042</td>\n",
       "      <td>238.266740</td>\n",
       "      <td>235.688932</td>\n",
       "      <td>notebook</td>\n",
       "    </tr>\n",
       "    <tr>\n",
       "      <th>317</th>\n",
       "      <td>frames/frame_0026.jpg</td>\n",
       "      <td>88.111723</td>\n",
       "      <td>67.775538</td>\n",
       "      <td>59.760907</td>\n",
       "      <td>office hour</td>\n",
       "    </tr>\n",
       "    <tr>\n",
       "      <th>318</th>\n",
       "      <td>frames/frame_0269.jpg</td>\n",
       "      <td>243.694002</td>\n",
       "      <td>242.792296</td>\n",
       "      <td>241.296363</td>\n",
       "      <td>notebook</td>\n",
       "    </tr>\n",
       "    <tr>\n",
       "      <th>319</th>\n",
       "      <td>frames/frame_0189.jpg</td>\n",
       "      <td>233.106046</td>\n",
       "      <td>232.358021</td>\n",
       "      <td>230.135013</td>\n",
       "      <td>notebook</td>\n",
       "    </tr>\n",
       "    <tr>\n",
       "      <th>320</th>\n",
       "      <td>frames/frame_0308.jpg</td>\n",
       "      <td>89.478576</td>\n",
       "      <td>70.244049</td>\n",
       "      <td>62.887799</td>\n",
       "      <td>office hour</td>\n",
       "    </tr>\n",
       "    <tr>\n",
       "      <th>321</th>\n",
       "      <td>frames/frame_0216.jpg</td>\n",
       "      <td>87.775230</td>\n",
       "      <td>66.814054</td>\n",
       "      <td>61.303611</td>\n",
       "      <td>office hour</td>\n",
       "    </tr>\n",
       "    <tr>\n",
       "      <th>322</th>\n",
       "      <td>frames/frame_0062.jpg</td>\n",
       "      <td>231.124358</td>\n",
       "      <td>230.589631</td>\n",
       "      <td>230.832990</td>\n",
       "      <td>notebook</td>\n",
       "    </tr>\n",
       "    <tr>\n",
       "      <th>323</th>\n",
       "      <td>frames/frame_0111.jpg</td>\n",
       "      <td>230.547170</td>\n",
       "      <td>229.876050</td>\n",
       "      <td>227.369436</td>\n",
       "      <td>notebook</td>\n",
       "    </tr>\n",
       "    <tr>\n",
       "      <th>324</th>\n",
       "      <td>frames/frame_0326.jpg</td>\n",
       "      <td>7.470391</td>\n",
       "      <td>7.473355</td>\n",
       "      <td>7.479188</td>\n",
       "      <td>other</td>\n",
       "    </tr>\n",
       "    <tr>\n",
       "      <th>325</th>\n",
       "      <td>frames/frame_0067.jpg</td>\n",
       "      <td>231.238854</td>\n",
       "      <td>230.684852</td>\n",
       "      <td>230.936467</td>\n",
       "      <td>notebook</td>\n",
       "    </tr>\n",
       "    <tr>\n",
       "      <th>326</th>\n",
       "      <td>frames/frame_0012.jpg</td>\n",
       "      <td>106.565577</td>\n",
       "      <td>53.084271</td>\n",
       "      <td>45.153090</td>\n",
       "      <td>office hour</td>\n",
       "    </tr>\n",
       "    <tr>\n",
       "      <th>327</th>\n",
       "      <td>frames/frame_0252.jpg</td>\n",
       "      <td>244.168859</td>\n",
       "      <td>243.397960</td>\n",
       "      <td>241.735625</td>\n",
       "      <td>notebook</td>\n",
       "    </tr>\n",
       "    <tr>\n",
       "      <th>328</th>\n",
       "      <td>frames/frame_0102.jpg</td>\n",
       "      <td>230.915382</td>\n",
       "      <td>230.227005</td>\n",
       "      <td>227.885560</td>\n",
       "      <td>notebook</td>\n",
       "    </tr>\n",
       "    <tr>\n",
       "      <th>329</th>\n",
       "      <td>frames/frame_0044.jpg</td>\n",
       "      <td>233.172648</td>\n",
       "      <td>232.531111</td>\n",
       "      <td>232.777283</td>\n",
       "      <td>notebook</td>\n",
       "    </tr>\n",
       "  </tbody>\n",
       "</table>\n",
       "</div>"
      ],
      "text/plain": [
       "                     frame           r           g           b        scene\n",
       "310  frames/frame_0183.jpg  233.254275  232.474891  230.252852     notebook\n",
       "311  frames/frame_0181.jpg  233.201115  232.446901  230.222227     notebook\n",
       "312  frames/frame_0301.jpg   89.094145   70.042192   62.454501  office hour\n",
       "313  frames/frame_0311.jpg   89.052721   70.084679   62.528559  office hour\n",
       "314  frames/frame_0321.jpg  218.887899   80.898411   63.118472        other\n",
       "315  frames/frame_0236.jpg  244.596463  243.932457  242.092279     notebook\n",
       "316  frames/frame_0195.jpg  238.826042  238.266740  235.688932     notebook\n",
       "317  frames/frame_0026.jpg   88.111723   67.775538   59.760907  office hour\n",
       "318  frames/frame_0269.jpg  243.694002  242.792296  241.296363     notebook\n",
       "319  frames/frame_0189.jpg  233.106046  232.358021  230.135013     notebook\n",
       "320  frames/frame_0308.jpg   89.478576   70.244049   62.887799  office hour\n",
       "321  frames/frame_0216.jpg   87.775230   66.814054   61.303611  office hour\n",
       "322  frames/frame_0062.jpg  231.124358  230.589631  230.832990     notebook\n",
       "323  frames/frame_0111.jpg  230.547170  229.876050  227.369436     notebook\n",
       "324  frames/frame_0326.jpg    7.470391    7.473355    7.479188        other\n",
       "325  frames/frame_0067.jpg  231.238854  230.684852  230.936467     notebook\n",
       "326  frames/frame_0012.jpg  106.565577   53.084271   45.153090  office hour\n",
       "327  frames/frame_0252.jpg  244.168859  243.397960  241.735625     notebook\n",
       "328  frames/frame_0102.jpg  230.915382  230.227005  227.885560     notebook\n",
       "329  frames/frame_0044.jpg  233.172648  232.531111  232.777283     notebook"
      ]
     },
     "execution_count": 55,
     "metadata": {},
     "output_type": "execute_result"
    }
   ],
   "source": [
    "### ASSIGNMENT CODE for Puzzle 4.1 ==\n",
    "df[\"scene\"] = df.apply(lambda row: classifyFrame2(row.r, row.g, row.b), axis=1)\n",
    "df.tail(20)"
   ]
  },
  {
   "cell_type": "markdown",
   "id": "941a86ce",
   "metadata": {},
   "source": [
    "### 🔬 Checkpoint Tests 🔬"
   ]
  },
  {
   "cell_type": "code",
   "execution_count": 56,
   "id": "eecac9a1",
   "metadata": {},
   "outputs": [
    {
     "ename": "AssertionError",
     "evalue": "",
     "output_type": "error",
     "traceback": [
      "\u001b[0;31m---------------------------------------------------------------------------\u001b[0m",
      "\u001b[0;31mAssertionError\u001b[0m                            Traceback (most recent call last)",
      "Cell \u001b[0;32mIn[56], line 20\u001b[0m\n\u001b[1;32m     18\u001b[0m \u001b[38;5;28;01massert\u001b[39;00m( \u001b[38;5;28mlen\u001b[39m( df[ (df\u001b[38;5;241m.\u001b[39mframe\u001b[38;5;241m.\u001b[39mstr\u001b[38;5;241m.\u001b[39mendswith(\u001b[38;5;124m\"\u001b[39m\u001b[38;5;124m0081.jpg\u001b[39m\u001b[38;5;124m\"\u001b[39m)) \u001b[38;5;241m&\u001b[39m (df\u001b[38;5;241m.\u001b[39mscene \u001b[38;5;241m==\u001b[39m \u001b[38;5;124m\"\u001b[39m\u001b[38;5;124mnotebook\u001b[39m\u001b[38;5;124m\"\u001b[39m) ] ) \u001b[38;5;241m==\u001b[39m \u001b[38;5;241m1\u001b[39m )\n\u001b[1;32m     19\u001b[0m \u001b[38;5;28;01massert\u001b[39;00m( \u001b[38;5;28mlen\u001b[39m( df[ (df\u001b[38;5;241m.\u001b[39mframe\u001b[38;5;241m.\u001b[39mstr\u001b[38;5;241m.\u001b[39mendswith(\u001b[38;5;124m\"\u001b[39m\u001b[38;5;124m0191.jpg\u001b[39m\u001b[38;5;124m\"\u001b[39m)) \u001b[38;5;241m&\u001b[39m (df\u001b[38;5;241m.\u001b[39mscene \u001b[38;5;241m==\u001b[39m \u001b[38;5;124m\"\u001b[39m\u001b[38;5;124mnotebook\u001b[39m\u001b[38;5;124m\"\u001b[39m) ] ) \u001b[38;5;241m==\u001b[39m \u001b[38;5;241m1\u001b[39m )\n\u001b[0;32m---> 20\u001b[0m \u001b[38;5;28;01massert\u001b[39;00m( \u001b[38;5;28mlen\u001b[39m( df[ (df\u001b[38;5;241m.\u001b[39mframe\u001b[38;5;241m.\u001b[39mstr\u001b[38;5;241m.\u001b[39mendswith(\u001b[38;5;124m\"\u001b[39m\u001b[38;5;124m0317.jpg\u001b[39m\u001b[38;5;124m\"\u001b[39m)) \u001b[38;5;241m&\u001b[39m (df\u001b[38;5;241m.\u001b[39mscene \u001b[38;5;241m==\u001b[39m \u001b[38;5;124m\"\u001b[39m\u001b[38;5;124mother\u001b[39m\u001b[38;5;124m\"\u001b[39m) ] ) \u001b[38;5;241m==\u001b[39m \u001b[38;5;241m1\u001b[39m )\n\u001b[1;32m     21\u001b[0m \u001b[38;5;28;01massert\u001b[39;00m( \u001b[38;5;28mlen\u001b[39m( df[ (df\u001b[38;5;241m.\u001b[39mframe\u001b[38;5;241m.\u001b[39mstr\u001b[38;5;241m.\u001b[39mendswith(\u001b[38;5;124m\"\u001b[39m\u001b[38;5;124m0325.jpg\u001b[39m\u001b[38;5;124m\"\u001b[39m)) \u001b[38;5;241m&\u001b[39m (df\u001b[38;5;241m.\u001b[39mscene \u001b[38;5;241m==\u001b[39m \u001b[38;5;124m\"\u001b[39m\u001b[38;5;124mother\u001b[39m\u001b[38;5;124m\"\u001b[39m) ] ) \u001b[38;5;241m==\u001b[39m \u001b[38;5;241m1\u001b[39m )\n\u001b[1;32m     22\u001b[0m \u001b[38;5;28;01massert\u001b[39;00m( \u001b[38;5;28mlen\u001b[39m( df[ (df\u001b[38;5;241m.\u001b[39mframe\u001b[38;5;241m.\u001b[39mstr\u001b[38;5;241m.\u001b[39mendswith(\u001b[38;5;124m\"\u001b[39m\u001b[38;5;124m0328.jpg\u001b[39m\u001b[38;5;124m\"\u001b[39m)) \u001b[38;5;241m&\u001b[39m (df\u001b[38;5;241m.\u001b[39mscene \u001b[38;5;241m==\u001b[39m \u001b[38;5;124m\"\u001b[39m\u001b[38;5;124mother\u001b[39m\u001b[38;5;124m\"\u001b[39m) ] ) \u001b[38;5;241m==\u001b[39m \u001b[38;5;241m1\u001b[39m )\n",
      "\u001b[0;31mAssertionError\u001b[0m: "
     ]
    }
   ],
   "source": [
    "### TEST CASE for Puzzle 4.1 ==\n",
    "## == CHECKPOINT TESTS ==\n",
    "# - This read-only cell contains a \"checkpoint\" for this section of the MicroProejct and verifies you are on the right track.\n",
    "# - If this cell results in a celebration message, you PASSED all test cases!\n",
    "# - If this cell results in any errors, check you previous cells, make changes, and RE-RUN your code and then this cell.\n",
    "tada = \"\\N{PARTY POPPER}\"\n",
    "\n",
    "assert(\"scene\" in df)\n",
    "\n",
    "assert(len(df[ df.scene == \"notebook\" ]) > 100)\n",
    "assert(len(df[ df.scene == \"office hour\" ]) > 75)\n",
    "assert(len(df[ df.scene == \"other\" ]) >= 15)\n",
    "assert(len(df[ df.scene == \"other\" ]) <= 18)   # It's okay to classify the intro screens as \"other\" as well -- but not any others.\n",
    "assert(len(df[ df.scene == \"notebook\" ]) + len(df[ df.scene == \"office hour\" ]) + len(df[ df.scene == \"other\" ]) == len(df))\n",
    "\n",
    "assert( len( df[ (df.frame.str.endswith(\"0001.jpg\")) & (df.scene == \"office hour\") ] ) == 1 )\n",
    "assert( len( df[ (df.frame.str.endswith(\"0306.jpg\")) & (df.scene == \"office hour\") ] ) == 1 )\n",
    "assert( len( df[ (df.frame.str.endswith(\"0081.jpg\")) & (df.scene == \"notebook\") ] ) == 1 )\n",
    "assert( len( df[ (df.frame.str.endswith(\"0191.jpg\")) & (df.scene == \"notebook\") ] ) == 1 )\n",
    "assert( len( df[ (df.frame.str.endswith(\"0317.jpg\")) & (df.scene == \"other\") ] ) == 1 )\n",
    "assert( len( df[ (df.frame.str.endswith(\"0325.jpg\")) & (df.scene == \"other\") ] ) == 1 )\n",
    "assert( len( df[ (df.frame.str.endswith(\"0328.jpg\")) & (df.scene == \"other\") ] ) == 1 )\n",
    "\n",
    "print(f\"{tada} All Tests Passed! {tada}\")"
   ]
  },
  {
   "cell_type": "markdown",
   "id": "0f55a08d",
   "metadata": {},
   "source": [
    "<hr style=\"color: #DD3403;\">"
   ]
  },
  {
   "cell_type": "markdown",
   "id": "6f3c359f",
   "metadata": {},
   "source": [
    "## Submission\n",
    "\n",
    "You're almost done!  All you need to do is to commit your lab to GitHub and run the GitHub Actions Grader:\n",
    "\n",
    "1.  ⚠️ **Make certain to save your work.** ⚠️ To do this, go to **File => Save All**\n",
    "\n",
    "2.  After you have saved, exit this notebook and follow the instructions to commit and grade this MicroProject!"
   ]
  }
 ],
 "metadata": {
  "kernelspec": {
   "display_name": "Python 3 (ipykernel)",
   "language": "python",
   "name": "python3"
  },
  "language_info": {
   "codemirror_mode": {
    "name": "ipython",
    "version": 3
   },
   "file_extension": ".py",
   "mimetype": "text/x-python",
   "name": "python",
   "nbconvert_exporter": "python",
   "pygments_lexer": "ipython3",
   "version": "3.11.3"
  }
 },
 "nbformat": 4,
 "nbformat_minor": 5
}
