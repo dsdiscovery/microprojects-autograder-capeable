{
 "cells": [
  {
   "cell_type": "markdown",
   "id": "43c33e92",
   "metadata": {},
   "source": [
    "<h1 style=\"text-align: center\">\n",
    "<div style=\"color: #DD3403; font-size: 60%\">Data Science DISCOVERY MicroProject</div>\n",
    "<span style=\"\">MicroProject: Building a Scene Recognition Model form Video Frames</span>\n",
    "<div style=\"font-size: 60%;\"><a href=\"https://discovery.cs.illinois.edu/microproject/video-frame-scene-recognition-model/\">https://discovery.cs.illinois.edu/microproject/video-frame-scene-recognition-model/</a></div>\n",
    "</h1>\n",
    "\n",
    "<hr style=\"color: #DD3403;\">"
   ]
  },
  {
   "cell_type": "markdown",
   "id": "b888209c",
   "metadata": {},
   "source": [
    "## Data Source: Frames of a Video\n",
    "\n",
    "Visual images are an important part of all media and Data Scientists are often using images as data sources.  In this MicroProject, you will create a simple model to detect the amount of time spent in two different \"scenes\" we used when creating office-hour style videos for Data Science DISCOVERY.  To do this, you will learn how to import an entire folder of images, preform image analysis, and create your own model without using a pre-build library.  Let's nerd out! :)\n",
    "\n",
    "> *This MicroProject was inspired by a podcast that we recently recorded with the team from the Center for Innovation in Teaching and Learning who helped produce our video.  To learn the background and hear from Karle and Wade about the journey of creating DISCOVERY, go over and listen to our episode on the \"Teach Talk Listen Learn Podcast\" where talk with TTLL host Bob Dignan and our CITL video producer Eric Schumacher: https://citl.illinois.edu/citl-101/teaching-learning/teach-talk-listen-learn*"
   ]
  },
  {
   "cell_type": "markdown",
   "id": "4c0f3b86",
   "metadata": {},
   "source": [
    "## Loading Video Frames\n",
    "\n",
    "We have provided you with one frame every second from our video [*\"Outliers Impact on Correlation (m6-02b)\"*](https://www.youtube.com/watch?v=bd6hQ2UcIJc) that is used as part of our [DISCOVERY lecture covering Correlation](https://discovery.cs.illinois.edu/learn/Towards-Machine-Learning/Correlation/).  Each of these frames are in the `frames` sub-folder.\n",
    "\n",
    "The `skimage` library is commonly used to load image data into Python.  Specifically:\n",
    "\n",
    "- The full function name we will be using is `skimage.io.imread(filename)`.  This function will read a filename and return the pixel color for every pixel in the image.\n",
    "\n",
    "- To use the `imread` function, you will need to either do one of the following:\n",
    "\n",
    "    1. Import the entire `skimage` library by using the import line: `import skimage`.  After importing all of `skimage`, you will call the function using it's fully qualified name: `skimage.io.imread(filename)`.\n",
    "    \n",
    "    **ALTERATIVELY**\n",
    "    \n",
    "    2. Import only the `imread` function by using the more specific import line: `from sklearn.io import imread`.  After importing only `imread`, you will call the function directly: `imread(filename)`\n",
    "\n",
    "    *(People's preference differs on how they prefer to import and use libraries.  Both techniques work! :))*\n",
    "\n",
    "### Read Pixel Data for `frames/frame_0001.jpg`\n",
    "\n",
    "As noted earlier, we have provided a `frames` directory with all of the frames.\n",
    "\n",
    "In the following cell, store the pixel color data from the file named `frames/frame_0001.jpg` image in the variable `pixels` by using the `imread` function:"
   ]
  },
  {
   "cell_type": "code",
   "execution_count": null,
   "id": "7f13625b",
   "metadata": {},
   "outputs": [],
   "source": [
    "### ASSIGNMENT CODE for Puzzle 1.1 ==\n",
    "..."
   ]
  },
  {
   "cell_type": "markdown",
   "id": "f78a8f9c",
   "metadata": {},
   "source": [
    "### 🔬 Checkpoint Tests 🔬"
   ]
  },
  {
   "cell_type": "code",
   "execution_count": null,
   "id": "71f3a21b",
   "metadata": {},
   "outputs": [],
   "source": [
    "### TEST CASE for Puzzle 1.1 ==\n",
    "## == CHECKPOINT TESTS ==\n",
    "# - This read-only cell contains a \"checkpoint\" for this section of the MicroProejct and verifies you are on the right track.\n",
    "# - If this cell results in a celebration message, you PASSED all test cases!\n",
    "# - If this cell results in any errors, check you previous cells, make changes, and RE-RUN your code and then this cell.\n",
    "tada = \"\\N{PARTY POPPER}\"\n",
    "\n",
    "assert(\"pixels\" in vars())\n",
    "assert(pixels.shape == (360, 640, 3))\n",
    "assert(pixels[0][0][0] == 91)\n",
    "\n",
    "print(f\"{tada} All Tests Passed! {tada}\")"
   ]
  },
  {
   "cell_type": "markdown",
   "id": "f51831ea",
   "metadata": {},
   "source": [
    "<hr style=\"color: #DD3403;\">"
   ]
  },
  {
   "cell_type": "markdown",
   "id": "07218543",
   "metadata": {},
   "source": [
    "## Part 1: Storing Average Pixel Color\n",
    "\n",
    "The **shape** of your data is the `rows` by `columns` by `color values` as 3-dimensional list.  Here's a formatted view of your `pixels` data:\n",
    "\n",
    "```\n",
    "[\n",
    "  [ [91, 83, 80], [91, 83, 80], [91, 83, 80] ], ... ],   # Row #1\n",
    "  [ [91, 83, 80], [91, 83, 80], [91, 83, 80] ], ... ],   # Row #2\n",
    "  ...                                                    # ...\n",
    "]\n",
    "```\n",
    "\n",
    "The current shape of `pixels` is 360 rows by 640 columns by 3 colors (`360` x `640` x `3`).  Each of the three colors represent the three color channels on a screen: red, green, and blue.\n",
    "\n",
    "Using `pixel.mean()`, we find the average color grouping **ALL** the color channels (combining blues and reds and greens together).  Try it out:"
   ]
  },
  {
   "cell_type": "code",
   "execution_count": null,
   "id": "aa693cf5",
   "metadata": {},
   "outputs": [],
   "source": [
    "pixels.mean()"
   ]
  },
  {
   "cell_type": "markdown",
   "id": "d08fc5a5",
   "metadata": {},
   "source": [
    "This value is not very useful.  It is the average of red, green, and blue all lumped together -- it would be far more useful to find the average **red**, average **green**, and average **blue** independently.\n",
    "\n",
    "To do that, we first need to \"flatten\" the list so that we have a list of only color data instead of a list of rows, columns, and then color data.  That means we want our list to look like the following:\n",
    "\n",
    "```\n",
    "[\n",
    "  [ 91, 83, 80 ],    # Pixel #1 color data\n",
    "  [ 91, 83, 80 ],    # Pixel #2 color data\n",
    "  [ 91, 83, 80 ],    # Pixel #3 color data\n",
    "  ...\n",
    "]\n",
    "```\n",
    "\n",
    "### Using `pixels.reshape()`\n",
    "\n",
    "Now that we have the desired shape of the list, the `reshape` function can do the hard work!  We know we want the final shape to be `?`x `3`.  As long as you only have one unknown dimensions, Python allows you to provide a `-1` and it will place all of the data there.\n",
    "\n",
    "That means `pixels.reshape(-1, 3)` will reshape our list to be a single long list of color data.  Let's try out that transformation:"
   ]
  },
  {
   "cell_type": "code",
   "execution_count": null,
   "id": "6b752fdc",
   "metadata": {},
   "outputs": [],
   "source": [
    "### ASSIGNMENT CODE for Puzzle 1.1 ==\n",
    "pixels = pixels.reshape(-1, 3)\n",
    "pixels"
   ]
  },
  {
   "cell_type": "markdown",
   "id": "694bc97c",
   "metadata": {},
   "source": [
    "Finally, we want the average value of each element of the list.  To do this, `pixels.mean(axis=0)` finds the average color of each element of our newly formatted list of pixels:"
   ]
  },
  {
   "cell_type": "code",
   "execution_count": null,
   "id": "49db28ef",
   "metadata": {},
   "outputs": [],
   "source": [
    "### ASSIGNMENT CODE for Puzzle 1.1 ==\n",
    "pixels.mean(axis=0)"
   ]
  },
  {
   "cell_type": "markdown",
   "id": "1161bfe6",
   "metadata": {},
   "source": [
    "### Puzzle 1.1: Finding the Average Color of One Image\n",
    "\n",
    "Given the output you learned above, write the Python code to store `pixel`'s average red value in `r`, average green value in `g`, and average blue value in `b`:"
   ]
  },
  {
   "cell_type": "code",
   "execution_count": null,
   "id": "4605b2ae",
   "metadata": {},
   "outputs": [],
   "source": [
    "### ASSIGNMENT CODE for Puzzle 1.1 ==\n",
    "..."
   ]
  },
  {
   "cell_type": "code",
   "execution_count": null,
   "id": "dbf90cf3",
   "metadata": {},
   "outputs": [],
   "source": [
    "### TEST CASE for Puzzle 1.1 ==\n",
    "## == CHECKPOINT TESTS ==\n",
    "# - This read-only cell contains a \"checkpoint\" for this section of the MicroProejct and verifies you are on the right track.\n",
    "# - If this cell results in a celebration message, you PASSED all test cases!\n",
    "# - If this cell results in any errors, check you previous cells, make changes, and RE-RUN your code and then this cell.\n",
    "tada = \"\\N{PARTY POPPER}\"\n",
    "\n",
    "import math\n",
    "assert(\"r\" in vars())\n",
    "assert(\"g\" in vars())\n",
    "assert(\"b\" in vars())\n",
    "assert(r > 88 and r < 89)\n",
    "assert(g > 67 and g < 68)\n",
    "assert(b > 60 and b < 61)\n",
    "\n",
    "print(f\"{tada} All Tests Passed! {tada}\")"
   ]
  },
  {
   "cell_type": "markdown",
   "id": "3baf2833",
   "metadata": {},
   "source": [
    "### Puzzle 1.2: Finding the Average Color of All Images\n",
    "\n",
    "The following code loops through every file in the `frames` directory -- this will include `frame_0001.jpg` (like you analyzed already) and also `frame_0002.jpg`, `frame_0003.jpg`, and all 300+ frames!\n",
    "\n",
    "Create a DataFrame where each row is one frame with the following four columns:\n",
    "- `frame`, the filename of the frame\n",
    "- `r`, the average red color of the frame\n",
    "- `g`, the average green color of the frame\n",
    "- `b`, the average blue color of the frame\n",
    "\n",
    "The structure of the code should be nearly **identical to writing a simulation**.  For \"Step 3\" when you would normally simulate a random variable for the real-world event, you should instead use the real world data.  This real world data will be filename `frame`, and the `r`, `g`, and `b` values should be the average color of that frame.\n",
    "\n",
    "- See: https://discovery.cs.illinois.edu/learn/Simulation-and-Distributions/Simple-Simulations-in-Python/"
   ]
  },
  {
   "cell_type": "code",
   "execution_count": null,
   "id": "01320442",
   "metadata": {},
   "outputs": [],
   "source": [
    "### ASSIGNMENT CODE for Puzzle 1.2 ==\n",
    "import glob\n",
    "import os\n",
    "import pandas as pd\n",
    "\n",
    "data = []\n",
    "for frame in glob.glob(os.path.join(\"frames\", \"*.jpg\")): \n",
    "  # `frame`` contains the filename of the frame (ex: \"frames/frame_0001.jpg\").  Use it for `imread` to read the frame image data.\n",
    "  ...\n",
    "\n",
    "df = ..."
   ]
  },
  {
   "cell_type": "markdown",
   "id": "b27365d8",
   "metadata": {},
   "source": [
    "### 🔬 Checkpoint Tests 🔬"
   ]
  },
  {
   "cell_type": "code",
   "execution_count": null,
   "id": "bfcac6ae",
   "metadata": {},
   "outputs": [],
   "source": [
    "### TEST CASE for Puzzle 1.2 ==\n",
    "## == CHECKPOINT TESTS ==\n",
    "# - This read-only cell contains a \"checkpoint\" for this section of the MicroProejct and verifies you are on the right track.\n",
    "# - If this cell results in a celebration message, you PASSED all test cases!\n",
    "# - If this cell results in any errors, check you previous cells, make changes, and RE-RUN your code and then this cell.\n",
    "tada = \"\\N{PARTY POPPER}\"\n",
    "\n",
    "import math\n",
    "assert(\"df\" in vars())\n",
    "assert(len(df) == 330)\n",
    "assert(\"r\" in df)\n",
    "assert(\"g\" in df)\n",
    "assert(\"b\" in df)\n",
    "assert(\"frame\" in df)\n",
    "assert( abs( df[ df.frame.str.endswith(\"_0001.jpg\") ][\"r\"].sum() - 88 ) < 1 )\n",
    "\n",
    "print(f\"{tada} All Tests Passed! {tada}\")"
   ]
  },
  {
   "cell_type": "markdown",
   "id": "cad9d99d",
   "metadata": {},
   "source": [
    "<hr style=\"color: #DD3403;\">"
   ]
  },
  {
   "cell_type": "markdown",
   "id": "99906361",
   "metadata": {},
   "source": [
    "## Part 2: Create a Simple Classifier\n",
    "\n",
    "In the DISCOVERY lecture videos, there are two primary \"scenes\" in the video:\n",
    "\n",
    "1. **\"Office Hours Studio Scene\"**, where Karle and Wade are talking to each other and the audience,\n",
    "\n",
    "2. **\"Notebook Scene\"**, where the notebook is displayed\n",
    "\n",
    "View the `frames` folder on your computer and find **at least three more frames** that are in the \"office hours studio scene\" and **at least three more frames** that are in the \"notebook scene\".  Add the frames you found to the list below:"
   ]
  },
  {
   "cell_type": "code",
   "execution_count": null,
   "id": "2ac4c0e6",
   "metadata": {},
   "outputs": [],
   "source": [
    "### ASSIGNMENT CODE for Puzzle 2.1 ==\n",
    "# List of at least four office hour frames by the filename's frame number:\n",
    "office_hour_frames = [1, ...]\n",
    "\n",
    "# List of at least four notebook frames by the filename's frame number:\n",
    "notebook_frames = [30, ...]"
   ]
  },
  {
   "cell_type": "markdown",
   "id": "c546d44a",
   "metadata": {},
   "source": [
    "### Observing the Average Colors of Your Frames\n",
    "\n",
    "The following code uses your sample frames to display the average color values for your selected frames.  This information about the average color of the two different type of frames will be useful for you to build the classifier in the next section.\n",
    "\n",
    "You may want to add more frames into your list above to get more data to help build your classifier.  Run the following code to see the average color values:"
   ]
  },
  {
   "cell_type": "code",
   "execution_count": null,
   "id": "80537713",
   "metadata": {},
   "outputs": [],
   "source": [
    "import os\n",
    "\n",
    "print(\"== Office Hour Frames ==\")\n",
    "print( df[ df[\"frame\"].isin( [os.path.join(\"frames\", f\"frame_{frame:04d}.jpg\") for frame in office_hour_frames]) ] )\n",
    "print()\n",
    "print(\"== Notebook Frames ==\")\n",
    "print( df[ df[\"frame\"].isin( [os.path.join(\"frames\", f\"frame_{frame:04d}.jpg\") for frame in notebook_frames]) ] )"
   ]
  },
  {
   "cell_type": "markdown",
   "id": "a66ef132",
   "metadata": {},
   "source": [
    "### Create Your Classifier Function\n",
    "\n",
    "A **classifier function** is a function that takes data and gives a classification for that data.  Create a new function, `classifyFrame` that receives an `r`, `g`, and `b` value.\n",
    "\n",
    "Using information from your frames above, have the function return the string `\"office hour\"` or `\"notebook\"` based on the values of `r`, `g`, and `b`.\n",
    "\n",
    "**IMPORTANT**: Make sure your classifier can handle **ANY** input -- even frames you have not seen before!  For example, you might decide that you will call a frame an `\"office hour\"` frame if the sum of `r`, `g` and `b` is greater than 100 and otherwise it's a `\"notebook\"` scene."
   ]
  },
  {
   "cell_type": "code",
   "execution_count": null,
   "id": "baa60a5c",
   "metadata": {},
   "outputs": [],
   "source": [
    "### ASSIGNMENT CODE for Puzzle 2.1 ==\n",
    "def classifyFrame(r, g, b):\n",
    "  # Return either \"office hour\" or \"notebook\" based on the values of `r`, `g`, and `b`.\n",
    "  ..."
   ]
  },
  {
   "cell_type": "markdown",
   "id": "dd16d8df",
   "metadata": {},
   "source": [
    "### 🔬 Checkpoint Tests 🔬"
   ]
  },
  {
   "cell_type": "code",
   "execution_count": null,
   "id": "343017e7",
   "metadata": {},
   "outputs": [],
   "source": [
    "### TEST CASE for Puzzle 2.1 ==\n",
    "## == CHECKPOINT TESTS ==\n",
    "# - This read-only cell contains a \"checkpoint\" for this section of the MicroProejct and verifies you are on the right track.\n",
    "# - If this cell results in a celebration message, you PASSED all test cases!\n",
    "# - If this cell results in any errors, check you previous cells, make changes, and RE-RUN your code and then this cell.\n",
    "tada = \"\\N{PARTY POPPER}\"\n",
    "\n",
    "r = classifyFrame(0, 0, 0)\n",
    "assert(r == \"notebook\" or r == \"office hour\")\n",
    "\n",
    "r = classifyFrame(255, 255, 255)\n",
    "assert(r == \"notebook\" or r == \"office hour\")\n",
    "\n",
    "r = classifyFrame(0, 255, 255)\n",
    "assert(r == \"notebook\" or r == \"office hour\")\n",
    "\n",
    "r = classifyFrame(255, 255, 0)\n",
    "assert(r == \"notebook\" or r == \"office hour\")\n",
    "\n",
    "print(f\"{tada} All Tests Passed! {tada}\")"
   ]
  },
  {
   "cell_type": "markdown",
   "id": "12459ae6",
   "metadata": {},
   "source": [
    "<hr style=\"color: #DD3403;\">"
   ]
  },
  {
   "cell_type": "markdown",
   "id": "597cc2f4",
   "metadata": {},
   "source": [
    "## Part 3: Using Your Classifier!\n",
    "\n",
    "Now that we have a classifier, we should run it on every frame!\n",
    "\n",
    "The following cell runs your `classifyFrame` classifier on every frame and adds a new column `scene` and displayed 20 random rows:"
   ]
  },
  {
   "cell_type": "code",
   "execution_count": null,
   "id": "94361ecf",
   "metadata": {},
   "outputs": [],
   "source": [
    "### ASSIGNMENT CODE for Puzzle 3.1 ==\n",
    "df[\"scene\"] = df.apply(lambda row: classifyFrame(row.r, row.g, row.b), axis=1)\n",
    "df.sample(20)"
   ]
  },
  {
   "cell_type": "markdown",
   "id": "72f52d5b",
   "metadata": {},
   "source": [
    "### 🔬 Checkpoint Tests 🔬"
   ]
  },
  {
   "cell_type": "code",
   "execution_count": null,
   "id": "bfa439b1",
   "metadata": {},
   "outputs": [],
   "source": [
    "### TEST CASE for Puzzle 3.1 ==\n",
    "## == CHECKPOINT TESTS ==\n",
    "# - This read-only cell contains a \"checkpoint\" for this section of the MicroProejct and verifies you are on the right track.\n",
    "# - If this cell results in a celebration message, you PASSED all test cases!\n",
    "# - If this cell results in any errors, check you previous cells, make changes, and RE-RUN your code and then this cell.\n",
    "tada = \"\\N{PARTY POPPER}\"\n",
    "\n",
    "assert(\"scene\" in df)\n",
    "\n",
    "assert(len(df[ df.scene == \"notebook\" ]) > 100), \"There are more than 100 frames that are clearly the notebook.  Make sure your classifier is able to pick up the notebook scene accurately.\"\n",
    "assert(len(df[ df.scene == \"office hour\" ]) > 75), \"There are more than 75 frames that are clearly the office hour set.  Make sure your classifier is able to pick up the office hour set scene accurately.\"\n",
    "assert(len(df[ df.scene == \"notebook\" ]) + len(df[ df.scene == \"office hour\" ]) == len(df)), \"Your classifier should must always identify a scene as either a notebook or office hour.  Make sure your classifier always returns one of those two values.\"\n",
    "\n",
    "assert( len( df[ (df.frame.str.endswith(\"0001.jpg\")) & (df.scene == \"office hour\") ] ) == 1 )\n",
    "assert( len( df[ (df.frame.str.endswith(\"0306.jpg\")) & (df.scene == \"office hour\") ] ) == 1 )\n",
    "assert( len( df[ (df.frame.str.endswith(\"0081.jpg\")) & (df.scene == \"notebook\") ] ) == 1 )\n",
    "assert( len( df[ (df.frame.str.endswith(\"0191.jpg\")) & (df.scene == \"notebook\") ] ) == 1 )\n",
    "\n",
    "print(f\"{tada} All Tests Passed! {tada}\")"
   ]
  },
  {
   "cell_type": "markdown",
   "id": "a80fdb3f",
   "metadata": {},
   "source": [
    "## Observing Results\n",
    "\n",
    "In the next 5 cells, we display a frame and you'll run code to check what your classifier classified the frame as being!  Make sure to run the code for each frame:"
   ]
  },
  {
   "cell_type": "markdown",
   "id": "63914d35",
   "metadata": {},
   "source": [
    "### Frame #0001: Office Hours"
   ]
  },
  {
   "cell_type": "code",
   "execution_count": null,
   "id": "bd122202",
   "metadata": {},
   "outputs": [],
   "source": [
    "df[ df.frame.str.endswith(\"0001.jpg\") ]"
   ]
  },
  {
   "cell_type": "markdown",
   "id": "4f2f9e92",
   "metadata": {},
   "source": [
    "![Frame 0001](frames/frame_0001.jpg)"
   ]
  },
  {
   "cell_type": "markdown",
   "id": "f0628175",
   "metadata": {},
   "source": [
    "### Frame #0081: Notebook"
   ]
  },
  {
   "cell_type": "code",
   "execution_count": null,
   "id": "98a43db5",
   "metadata": {},
   "outputs": [],
   "source": [
    "df[ df.frame.str.endswith(\"0081.jpg\") ]"
   ]
  },
  {
   "cell_type": "markdown",
   "id": "3ce9a878",
   "metadata": {},
   "source": [
    "![Frame 0001](frames/frame_0081.jpg)"
   ]
  },
  {
   "cell_type": "markdown",
   "id": "36a1cc2f",
   "metadata": {},
   "source": [
    "### Frame #0191: Notebook"
   ]
  },
  {
   "cell_type": "code",
   "execution_count": null,
   "id": "336eaea7",
   "metadata": {},
   "outputs": [],
   "source": [
    "df[ df.frame.str.endswith(\"0191.jpg\") ]"
   ]
  },
  {
   "cell_type": "markdown",
   "id": "74f590e1",
   "metadata": {},
   "source": [
    "![Frame 0001](frames/frame_0191.jpg)"
   ]
  },
  {
   "cell_type": "markdown",
   "id": "fdf0e1f4",
   "metadata": {},
   "source": [
    "### Frame #0306: Office Hours"
   ]
  },
  {
   "cell_type": "code",
   "execution_count": null,
   "id": "697c83d6",
   "metadata": {},
   "outputs": [],
   "source": [
    "df[ df.frame.str.endswith(\"0306.jpg\") ]"
   ]
  },
  {
   "cell_type": "markdown",
   "id": "5eb8206d",
   "metadata": {},
   "source": [
    "![Frame 0001](frames/frame_0306.jpg)"
   ]
  },
  {
   "cell_type": "markdown",
   "id": "06d7e176",
   "metadata": {},
   "source": [
    "### Frame #0320: Data Science Duo Logo???\n",
    "\n",
    "What did you classify the DUO logo as?  It's nether one, but we don't have that option!"
   ]
  },
  {
   "cell_type": "code",
   "execution_count": null,
   "id": "21698070",
   "metadata": {},
   "outputs": [],
   "source": [
    "df[ df.frame.str.endswith(\"0320.jpg\") ]"
   ]
  },
  {
   "cell_type": "markdown",
   "id": "34b1dfde",
   "metadata": {},
   "source": [
    "![Frame 0001](frames/frame_0320.jpg)"
   ]
  },
  {
   "cell_type": "markdown",
   "id": "db978cad",
   "metadata": {},
   "source": [
    "### Frame #328: Video Credits\n",
    "\n",
    "What did you classify the video credits as?  It's another tricky one!"
   ]
  },
  {
   "cell_type": "code",
   "execution_count": null,
   "id": "928d98f1",
   "metadata": {},
   "outputs": [],
   "source": [
    "df[ df.frame.str.endswith(\"0328.jpg\") ]"
   ]
  },
  {
   "cell_type": "markdown",
   "id": "3512892c",
   "metadata": {},
   "source": [
    "![Frame 0328](frames/frame_0328.jpg)"
   ]
  },
  {
   "cell_type": "markdown",
   "id": "8c9a303d",
   "metadata": {},
   "source": [
    "<hr style=\"color: #DD3403;\">"
   ]
  },
  {
   "cell_type": "markdown",
   "id": "e8fbda32",
   "metadata": {},
   "source": [
    "## Part 4: Update Your Classifier to Account with an \"Other\" Category\n",
    "\n",
    "Create a second classifier -- `classifyFrame2` -- that returns either `\"notebook\"`, `\"office hour\"` or `\"other\"`.  Your classifier should correctly handle the \"Data Science Duo\" (ex: #0320) frames and the \"Credit\" frames (ex: #0328)."
   ]
  },
  {
   "cell_type": "code",
   "execution_count": null,
   "id": "887bde42",
   "metadata": {},
   "outputs": [],
   "source": [
    "### ASSIGNMENT CODE for Puzzle 4.1 ==\n",
    "def classifyFrame2(r, g, b):\n",
    "  # Return either \"office hour\", \"notebook\", or \"other\" based on the values of `r`, `g`, and `b`.\n",
    "  ..."
   ]
  },
  {
   "cell_type": "markdown",
   "id": "a0ca150a",
   "metadata": {},
   "source": [
    "## Apply your `classifyFrame2` function\n",
    "\n",
    "Using `classifyFrame2`, this code replaces the value in the column `scene` with your `classifyFrame2` classification function.  The output of this cell shows the last frames of the video, which we expect to be `\"other\"`:"
   ]
  },
  {
   "cell_type": "code",
   "execution_count": null,
   "id": "2ed59790",
   "metadata": {},
   "outputs": [],
   "source": [
    "### ASSIGNMENT CODE for Puzzle 4.1 ==\n",
    "df[\"scene\"] = df.apply(lambda row: classifyFrame2(row.r, row.g, row.b), axis=1)\n",
    "df.tail(20)"
   ]
  },
  {
   "cell_type": "markdown",
   "id": "7f3a6dc0",
   "metadata": {},
   "source": [
    "### 🔬 Checkpoint Tests 🔬"
   ]
  },
  {
   "cell_type": "code",
   "execution_count": null,
   "id": "f72946d5",
   "metadata": {},
   "outputs": [],
   "source": [
    "### TEST CASE for Puzzle 4.1 ==\n",
    "## == CHECKPOINT TESTS ==\n",
    "# - This read-only cell contains a \"checkpoint\" for this section of the MicroProejct and verifies you are on the right track.\n",
    "# - If this cell results in a celebration message, you PASSED all test cases!\n",
    "# - If this cell results in any errors, check you previous cells, make changes, and RE-RUN your code and then this cell.\n",
    "tada = \"\\N{PARTY POPPER}\"\n",
    "\n",
    "assert(\"scene\" in df)\n",
    "\n",
    "assert(len(df[ df.scene == \"notebook\" ]) > 100)\n",
    "assert(len(df[ df.scene == \"office hour\" ]) > 75)\n",
    "assert(len(df[ df.scene == \"other\" ]) >= 15)\n",
    "assert(len(df[ df.scene == \"other\" ]) <= 18)   # It's okay to classify the intro screens as \"other\" as well -- but not any others.\n",
    "assert(len(df[ df.scene == \"notebook\" ]) + len(df[ df.scene == \"office hour\" ]) + len(df[ df.scene == \"other\" ]) == len(df))\n",
    "\n",
    "assert( len( df[ (df.frame.str.endswith(\"0001.jpg\")) & (df.scene == \"office hour\") ] ) == 1 )\n",
    "assert( len( df[ (df.frame.str.endswith(\"0306.jpg\")) & (df.scene == \"office hour\") ] ) == 1 )\n",
    "assert( len( df[ (df.frame.str.endswith(\"0081.jpg\")) & (df.scene == \"notebook\") ] ) == 1 )\n",
    "assert( len( df[ (df.frame.str.endswith(\"0191.jpg\")) & (df.scene == \"notebook\") ] ) == 1 )\n",
    "assert( len( df[ (df.frame.str.endswith(\"0317.jpg\")) & (df.scene == \"other\") ] ) == 1 )\n",
    "assert( len( df[ (df.frame.str.endswith(\"0325.jpg\")) & (df.scene == \"other\") ] ) == 1 )\n",
    "assert( len( df[ (df.frame.str.endswith(\"0328.jpg\")) & (df.scene == \"other\") ] ) == 1 )\n",
    "\n",
    "print(f\"{tada} All Tests Passed! {tada}\")"
   ]
  },
  {
   "cell_type": "markdown",
   "id": "1e78ea83",
   "metadata": {},
   "source": [
    "<hr style=\"color: #DD3403;\">"
   ]
  },
  {
   "cell_type": "markdown",
   "id": "bc656e67",
   "metadata": {},
   "source": [
    "## Submission\n",
    "\n",
    "You're almost done!  All you need to do is to commit your lab to GitHub and run the GitHub Actions Grader:\n",
    "\n",
    "1.  ⚠️ **Make certain to save your work.** ⚠️ To do this, go to **File => Save All**\n",
    "\n",
    "2.  After you have saved, exit this notebook and follow the instructions to commit and grade this MicroProject!"
   ]
  }
 ],
 "metadata": {
  "kernelspec": {
   "display_name": "Python 3 (ipykernel)",
   "language": "python",
   "name": "python3"
  },
  "language_info": {
   "codemirror_mode": {
    "name": "ipython",
    "version": 3
   },
   "file_extension": ".py",
   "mimetype": "text/x-python",
   "name": "python",
   "nbconvert_exporter": "python",
   "pygments_lexer": "ipython3",
   "version": "3.11.3"
  }
 },
 "nbformat": 4,
 "nbformat_minor": 5
}
