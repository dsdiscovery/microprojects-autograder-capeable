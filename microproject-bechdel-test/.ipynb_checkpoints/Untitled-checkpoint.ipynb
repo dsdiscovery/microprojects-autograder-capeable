{
 "cells": [
  {
   "cell_type": "markdown",
   "id": "e3539f68",
   "metadata": {},
   "source": [
    "<h1 style=\"text-align: center\">\n",
    "<div style=\"color: #DD3403; font-size: 60%\">Data Science DISCOVERY MicroProject</div>\n",
    "<span style=\"\">MicroProject: Bechdel Test</span>\n",
    "<div style=\"font-size: 60%;\"><a href=\"https://discovery.cs.illinois.edu/microproject/bechdel-test/\">https://discovery.cs.illinois.edu/microproject/bechdel-test/</a></div>\n",
    "</h1>\n",
    "\n",
    "<hr style=\"color: #DD3403;\">"
   ]
  },
  {
   "cell_type": "markdown",
   "id": "1c62c6c1",
   "metadata": {},
   "source": [
    "## Data Source: Bechdel Test\n",
    "\n",
    "The Bechdel Test, or Bechdel-Wallace Test, is a simple way of measuring the representation of women in a film or other work of fiction.  To pass the The Bechdel Test, a work must pass all three criteria:\n",
    "\n",
    "1. The work must have at least two women in it,\n",
    "\n",
    "2. who talk to each other,\n",
    "\n",
    "3. about something other than a man.\n",
    "\n",
    "The test was popularized by Alison Bechdel's comic, in a 1985 strip called \"The Rule\".  The website [BechdelTest.com](BechdelTest.com) provides a searchable database of films and their Bechdel Test results, allowing users to explore and analyze patterns in gender representation in cinema."
   ]
  },
  {
   "cell_type": "markdown",
   "id": "8f6f555f",
   "metadata": {},
   "source": [
    "### Importing the Bechdel Test Dataset\n",
    "\n",
    "The [BechdelTest.com](BechdelTest.com) public API provides a easy-to-access data source that contains the Bechdel Test scores for thousands of movies.  Through reading the technical API documentation at [https://bechdeltest.com/api/v1/doc](https://bechdeltest.com/api/v1/doc), you can find that:\n",
    "\n",
    "- The Bechdel Test API uses the JSON format, which can be read into a DataFrame using `pd.read_json(...)`,\n",
    "\n",
    "- The URL endpoint for the list of all movies is `https://bechdeltest.com/api/v1/getAllMovies`.\n",
    "\n",
    "Using `pd.read_json`, create a DataFrame `df_bechdel` to store all the movies and their Bechdel Test scores:"
   ]
  },
  {
   "cell_type": "code",
   "execution_count": null,
   "id": "ed2f0a6d",
   "metadata": {},
   "outputs": [],
   "source": [
    "### ASSIGNMENT CODE for Puzzle 0.1 ==\n",
    "df_bechdel = ...\n",
    "df_bechdel"
   ]
  },
  {
   "cell_type": "markdown",
   "id": "f7907668",
   "metadata": {},
   "source": [
    "<hr style=\"color: #DD3403;\">"
   ]
  },
  {
   "cell_type": "markdown",
   "id": "3ca9425e",
   "metadata": {},
   "source": [
    "## Part 1: Creating a Pivot Table for Analysis\n",
    "\n",
    "With over 9,000 movies that were released over 100 years, creating a summary of our data may be helpful for analysis!\n",
    "\n",
    "When summarizing data, `groupby` is commonly used to aggregate all data that has an identical value in one or more columns.  For example, to count how many movies have a Bechdel Test score in our dataset each year, we could use:\n",
    "\n",
    "```\n",
    "df_bechdel.groupby(\"year\").agg(\"count\")\n",
    "```\n",
    "\n",
    "Try that below:"
   ]
  },
  {
   "cell_type": "code",
   "execution_count": null,
   "id": "f4b5f660",
   "metadata": {
    "collapsed": true
   },
   "outputs": [],
   "source": [
    "### ASSIGNMENT CODE for Puzzle 1.0 ==\n",
    "..."
   ]
  },
  {
   "cell_type": "markdown",
   "id": "6eec99c2",
   "metadata": {},
   "source": [
    "## Step 1.1: Specify the `index`:\n",
    "\n",
    "When we want to summarize data by **two or more** categories, the `pivot_table` function of a DataFrame can be useful.  The `pivot_table` function requires us to specify:\n",
    "\n",
    "- The `index` requires us to specify the data we want the values of our **rows** to be.  For example, if we want our rows to be each year in our dataset we would specify `index=\"year\"`.\n",
    "\n",
    "\n",
    "Try creating a pivot table where we only specify the `index` value by trying the following different lines:\n",
    "\n",
    "1. First try creating a DataFrame where each row is a \"rating\": `df_bechdel.pivot_table(index=\"rating\")`\n",
    "\n",
    "2. Next try creating a DataFrame where each row is a \"year\": `df_bechdel.pivot_table(index=\"year\")`"
   ]
  },
  {
   "cell_type": "code",
   "execution_count": null,
   "id": "c9575178",
   "metadata": {},
   "outputs": [],
   "source": [
    "### ASSIGNMENT CODE for Puzzle 1.1 ==\n",
    "..."
   ]
  },
  {
   "cell_type": "markdown",
   "id": "be97e606",
   "metadata": {},
   "source": [
    "## Step 1.2: Specify the `aggfunc`:\n",
    "\n",
    "The second value we will specify is the `aggfunc`.  This is identical to the `agg` function in `groupby` and tells Python how to aggregate multiple values together.  By default (the results you saw in \"Step 1\") is that Python will take the `\"mean\"`.\n",
    "\n",
    "However, since each row of data is one movie, it makes the most sense to `\"count\"` each row of data.  Using your code above, add a second parameter to `df_bechdel.pivot_table` to include `aggfunc=\"count\"`:"
   ]
  },
  {
   "cell_type": "code",
   "execution_count": null,
   "id": "849b6a54",
   "metadata": {},
   "outputs": [],
   "source": [
    "### ASSIGNMENT CODE for Puzzle 1.2 ==\n",
    "..."
   ]
  },
  {
   "cell_type": "markdown",
   "id": "c0c70cd0",
   "metadata": {},
   "source": [
    "## Step 1.3: Specify the `columns`:\n",
    "\n",
    "The third value we will specify is `columns`.  This specifies what column from the original DataFrame should be presented in each column.  This `columns` value is combined together with the rows value (`index`) we specified in Part 1.\n",
    "\n",
    "To complete this step, create a pivot table where:\n",
    "\n",
    "- Each row (`index` parameter) in our pivot table is one year from the original DataFrame,\n",
    "- Each column (`columns` parameter) in our pivot table is one rating from the original DataFrame, **and**\n",
    "- The values are aggregated together by the `\"count\"` function (`aggfunc` parameter)\n",
    "\n",
    "Call this pivot table `df` and we'll check to make sure it looks good:"
   ]
  },
  {
   "cell_type": "code",
   "execution_count": null,
   "id": "61215784",
   "metadata": {},
   "outputs": [],
   "source": [
    "### ASSIGNMENT CODE for Puzzle 1.3 ==\n",
    "df = ...\n",
    "df"
   ]
  },
  {
   "cell_type": "code",
   "execution_count": null,
   "id": "bbb0e398",
   "metadata": {},
   "outputs": [],
   "source": [
    "### TEST CASE for Puzzle 1.3 ==\n",
    "## == STEP 1.3 TEST CASES ==\n",
    "# - This read-only cell contains test cases for the microproject.\n",
    "# - If this cell runs without any error in the output, you PASSED all test cases!\n",
    "# - If this cell results in any errors, check you previous cells, make changes, and RE-RUN your code and then this cell.\n",
    "tada = \"\\N{PARTY POPPER}\"\n",
    "\n",
    "assert( len(df) == len(df_bechdel[\"year\"].unique()) ), \\\n",
    "  \"You should have one row for each year, but your `df` does not. Make sure your `index` parameter is correct.\"\n",
    "\n",
    "assert( len(df.columns) == (len(df_bechdel.columns) - 2) * 4 ), \\\n",
    "  \"You should have a 0,1,2,3 column for each variable. Make sure your `columns` parameter is correct. \"\n",
    "\n",
    "assert( df[\"id\", 0][2021] == len(df_bechdel[ (df_bechdel.year == 2021) & (df_bechdel.rating == 0) ]) ), \\\n",
    "  \"You have the incorrect number of movies with a 0 rating in 2021. Make sure your `aggfunc` parameter is correct.\"\n",
    "\n",
    "print(f\"{tada} All tests passed! {tada}\")"
   ]
  },
  {
   "cell_type": "markdown",
   "id": "f2328829",
   "metadata": {},
   "source": [
    "## Step 1.4: Specify the `values`\n",
    "\n",
    "In the result above, you have a summary for the number of movies rated `0`, `1`, `2`, and `3` for every year of data in the dataset, but it is repeated for every `id` record, every `imdbid`, and every `title`.\n",
    "\n",
    "The `values` parameter allows us to specify the values we want to keep.  Since the `\"count\"` of all three columns are the same (every row has a title, id, and imdbid), the `values=\"title\"` field allows us to choose to only look at data about `titles` and cleans up our pivot table.\n",
    "\n",
    "Copy your code above and extend it to only include data about the `values=\"title\"`:"
   ]
  },
  {
   "cell_type": "code",
   "execution_count": null,
   "id": "4df8fc00",
   "metadata": {},
   "outputs": [],
   "source": [
    "### ASSIGNMENT CODE for Puzzle 1.4 ==\n",
    "df = ...\n",
    "df"
   ]
  },
  {
   "cell_type": "code",
   "execution_count": null,
   "id": "91cebdd8",
   "metadata": {},
   "outputs": [],
   "source": [
    "### TEST CASE for Puzzle 1.4 ==\n",
    "## == STEP 1.4 TEST CASES ==\n",
    "# - This read-only cell contains test cases for the microproject.\n",
    "# - If this cell runs without any error in the output, you PASSED all test cases!\n",
    "# - If this cell results in any errors, check you previous cells, make changes, and RE-RUN your code and then this cell.\n",
    "tada = \"\\N{PARTY POPPER}\"\n",
    "\n",
    "assert( len(df) == len(df_bechdel[\"year\"].unique()) ), \\\n",
    "  \"You should have one row for each year, but your `df` does not. Make sure your `index` parameter is correct.\"\n",
    "\n",
    "assert( len(df.columns) == 4 ), \\\n",
    "  \"You should have a single 0,1,2,3 column. Make sure your `columns` parameter is correct. \"\n",
    "\n",
    "assert( df[3][2021] == len(df_bechdel[ (df_bechdel.year == 2021) & (df_bechdel.rating == 3) ]) ), \\\n",
    "  \"You have the incorrect number of movies with a 3 rating in 2021. Make sure your `aggfunc` parameter is correct.\"\n",
    "\n",
    "print(f\"{tada} All tests passed! {tada}\")"
   ]
  },
  {
   "cell_type": "markdown",
   "id": "2e60a827",
   "metadata": {},
   "source": [
    "## Step 1.5: Specify the `fill_value`\n",
    "\n",
    "Finally, you may notice that there are no movies with a **3** rating in **1874**.  Since there is no data for that row/column combination, pandas leaves the value blank and reports a `NaN` or \"Not a Number\".\n",
    "\n",
    "The `fill_values` parameter allows us to give a default value when there is no data.  Since we know no data indicates that there were zero movies that that rating in our dataset, setting `fill_values=0` fills the missing data with zeros.\n",
    "\n",
    "Copy your code above and extend it to fill the values no data with `0`s:"
   ]
  },
  {
   "cell_type": "code",
   "execution_count": null,
   "id": "4fa863db",
   "metadata": {},
   "outputs": [],
   "source": [
    "### ASSIGNMENT CODE for Puzzle 1.5 ==\n",
    "df = ...\n",
    "df"
   ]
  },
  {
   "cell_type": "code",
   "execution_count": null,
   "id": "7a6c589c",
   "metadata": {},
   "outputs": [],
   "source": [
    "### TEST CASE for Puzzle 1.5 ==\n",
    "## == STEP 1.5 TEST CASES ==\n",
    "# - This read-only cell contains test cases for the microproject.\n",
    "# - If this cell runs without any error in the output, you PASSED all test cases!\n",
    "# - If this cell results in any errors, check you previous cells, make changes, and RE-RUN your code and then this cell.\n",
    "tada = \"\\N{PARTY POPPER}\"\n",
    "\n",
    "assert( len(df) == len(df_bechdel[\"year\"].unique()) ), \\\n",
    "  \"You should have one row for each year, but your `df` does not. Make sure your `index` parameter is correct.\"\n",
    "\n",
    "assert( len(df.columns) == 4 ), \\\n",
    "  \"You should have a single 0,1,2,3 column. Make sure your `columns` parameter is correct. \"\n",
    "\n",
    "assert( df[3][2021] == len(df_bechdel[ (df_bechdel.year == 2021) & (df_bechdel.rating == 3) ]) ), \\\n",
    "  \"You have the incorrect number of movies with a 3 rating in 2021. Make sure your `aggfunc` parameter is correct.\"\n",
    "\n",
    "assert( len(df.dropna()) == len(df) ), \\\n",
    "  \"You have some NaN values remaining. Make sure your `fill_value` parameter is correct.\"\n",
    "\n",
    "print(f\"{tada} All tests passed! {tada}\")"
   ]
  },
  {
   "cell_type": "markdown",
   "id": "57011870",
   "metadata": {},
   "source": [
    "<hr style=\"color: #DD3403;\">"
   ]
  },
  {
   "cell_type": "markdown",
   "id": "a6af609c",
   "metadata": {},
   "source": [
    "## Part 2: Visual Analysis of the Data\n",
    "\n",
    "First, let's look at the overall analysis of summary you created!  Use `df.plot.line()` to create a line chart of your pivot table:"
   ]
  },
  {
   "cell_type": "code",
   "execution_count": null,
   "id": "a268ab5e",
   "metadata": {},
   "outputs": [],
   "source": [
    "### ASSIGNMENT CODE for Puzzle 2.0 ==\n",
    "..."
   ]
  },
  {
   "cell_type": "markdown",
   "id": "7664224e",
   "metadata": {},
   "source": [
    "### Part 2.1: Create a Percentage Graph\n",
    "\n",
    "In the graph above, you can see that the **total number of movies** in the dataset has increased dramatically from the 1880s until today.  However, it is hard to determine if the percentage of movies with a higher rating has increased.\n",
    "\n",
    "To create a graph of the proportion of movies at reach ranking, add at least four additional columns to your DataFrame `df`:\n",
    "\n",
    "- `\"%0\"`, that contains the percentage of movies with a `0` ranking in a given year,\n",
    "- `\"%1\"`, that contains the percentage of movies with a `1` ranking in a given year,\n",
    "- `\"%2\"`, that contains the percentage of movies with a `2` ranking in a given year,\n",
    "- `\"%3\"`, that contains the percentage of movies with a `3` ranking in a given year,\n",
    "- You may find adding a `\"Total\"` column helpful."
   ]
  },
  {
   "cell_type": "code",
   "execution_count": null,
   "id": "da6032bb",
   "metadata": {},
   "outputs": [],
   "source": [
    "### ASSIGNMENT CODE for Puzzle 2.1 ==\n",
    "df[\"%0\"] = ...\n",
    "df[\"%1\"] = ...\n",
    "df[\"%2\"] = ...\n",
    "df[\"%3\"] = ...\n",
    "df"
   ]
  },
  {
   "cell_type": "code",
   "execution_count": null,
   "id": "85153a7b",
   "metadata": {},
   "outputs": [],
   "source": [
    "### TEST CASE for Puzzle 2.1 ==\n",
    "## == PUZZLE 2.1 TEST CASES ==\n",
    "# - This read-only cell contains test cases for the microproject.\n",
    "# - If this cell runs without any error in the output, you PASSED all test cases!\n",
    "# - If this cell results in any errors, check you previous cells, make changes, and RE-RUN your code and then this cell.\n",
    "tada = \"\\N{PARTY POPPER}\"\n",
    "\n",
    "assert( \"%0\" in df.columns ), \"Make sure you have a \\\"%0\\\" column.\"\n",
    "assert( \"%1\" in df.columns ), \"Make sure you have a \\\"%1\\\" column.\"\n",
    "assert( \"%2\" in df.columns ), \"Make sure you have a \\\"%2\\\" column.\"\n",
    "assert( \"%3\" in df.columns ), \"Make sure you have a \\\"%3\\\" column.\"\n",
    "\n",
    "import math\n",
    "assert( math.isclose(\n",
    "        df.loc[2020][\"%0\"],\n",
    "        len(df_bechdel[ (df_bechdel.year == 2020) & (df_bechdel.rating == 0) ]) / len(df_bechdel[ (df_bechdel.year == 2020) ])\n",
    "      )), \"Your calculation of %0 is incorrect.\"\n",
    "\n",
    "assert( math.isclose(\n",
    "        df.loc[2019][\"%1\"],\n",
    "        len(df_bechdel[ (df_bechdel.year == 2019) & (df_bechdel.rating == 1) ]) / len(df_bechdel[ (df_bechdel.year == 2019) ])\n",
    "      )), \"Your calculation of %1 is incorrect.\"\n",
    "\n",
    "assert( math.isclose(\n",
    "        df.loc[2018][\"%2\"],\n",
    "        len(df_bechdel[ (df_bechdel.year == 2018) & (df_bechdel.rating == 2) ]) / len(df_bechdel[ (df_bechdel.year == 2018) ])\n",
    "      )), \"Your calculation of %2 is incorrect.\"\n",
    "\n",
    "assert( math.isclose(\n",
    "        df.loc[2017][\"%3\"],\n",
    "        len(df_bechdel[ (df_bechdel.year == 2017) & (df_bechdel.rating == 3) ]) / len(df_bechdel[ (df_bechdel.year == 2017) ])\n",
    "      )), \"Your calculation of %3 is incorrect.\"\n",
    "\n",
    "print(f\"{tada} All tests passed! {tada}\")"
   ]
  },
  {
   "cell_type": "markdown",
   "id": "b5e8e4a5",
   "metadata": {},
   "source": [
    "### Part 2.2: Finding the Percentage of Movies /Year with Each Rating:"
   ]
  },
  {
   "cell_type": "markdown",
   "id": "4eeee002",
   "metadata": {},
   "source": [
    "To visualize only the percentage columns, create a new `df_pct` that contains only the `%0`, `%1`, `%2`, and `%3` columns:"
   ]
  },
  {
   "cell_type": "code",
   "execution_count": null,
   "id": "7bce85bb",
   "metadata": {},
   "outputs": [],
   "source": [
    "### ASSIGNMENT CODE for Puzzle 2.2 ==\n",
    "df_pct = ...\n",
    "df_pct"
   ]
  },
  {
   "cell_type": "code",
   "execution_count": null,
   "id": "a5bcd1fc",
   "metadata": {},
   "outputs": [],
   "source": [
    "### TEST CASE for Puzzle 2.2 ==\n",
    "## == PUZZLE 2.2 TEST CASES ==\n",
    "# - This read-only cell contains test cases for the microproject.\n",
    "# - If this cell runs without any error in the output, you PASSED all test cases!\n",
    "# - If this cell results in any errors, check you previous cells, make changes, and RE-RUN your code and then this cell.\n",
    "tada = \"\\N{PARTY POPPER}\"\n",
    "\n",
    "assert( \"df_pct\" in vars() ), \"Make sure you have defined the DataFrame `df_pct`.\"\n",
    "assert( \"%0\" in df_pct.columns ), \"Make sure you have a \\\"%0\\\" column.\"\n",
    "assert( \"%1\" in df_pct.columns ), \"Make sure you have a \\\"%1\\\" column.\"\n",
    "assert( \"%2\" in df_pct.columns ), \"Make sure you have a \\\"%2\\\" column.\"\n",
    "assert( \"%3\" in df_pct.columns ), \"Make sure you have a \\\"%3\\\" column.\"\n",
    "assert( len(df_pct.columns) == 4 ), \"Make sure you only have the percentage columns in `df_pct`.\"\n",
    "\n",
    "print(f\"{tada} All tests passed! {tada}\")"
   ]
  },
  {
   "cell_type": "markdown",
   "id": "477d1484",
   "metadata": {},
   "source": [
    "### Part 2.3: Visualizing the Percentage of Movies /Year with Each Rating:"
   ]
  },
  {
   "cell_type": "markdown",
   "id": "c69c386e",
   "metadata": {},
   "source": [
    "Since `df_pct` has rows that always add up to `1`, this data is **PERFECT** for a stacked area graph.  Using `df.plot.area()`, create a stacked area visualization to view the growth of the percentage of each movie's rating:"
   ]
  },
  {
   "cell_type": "code",
   "execution_count": null,
   "id": "1b06b4d1",
   "metadata": {},
   "outputs": [],
   "source": [
    "### ASSIGNMENT CODE for Puzzle 2.3 ==\n",
    "..."
   ]
  },
  {
   "cell_type": "markdown",
   "id": "5f030435",
   "metadata": {},
   "source": [
    "<hr style=\"color: #DD3403;\">"
   ]
  },
  {
   "cell_type": "markdown",
   "id": "325d9ec9",
   "metadata": {},
   "source": [
    "## Submission\n",
    "\n",
    "You're almost done!  All you need to do is to commit your lab to GitHub and run the GitHub Actions Grader:\n",
    "\n",
    "1.  ⚠️ **Make certain to save your work.** ⚠️ To do this, go to **File => Save All**\n",
    "\n",
    "2.  After you have saved, exit this notebook and follow the instructions to commit and grade this MicroProject!"
   ]
  }
 ],
 "metadata": {
  "kernelspec": {
   "display_name": "Python 3 (ipykernel)",
   "language": "python",
   "name": "python3"
  },
  "language_info": {
   "codemirror_mode": {
    "name": "ipython",
    "version": 3
   },
   "file_extension": ".py",
   "mimetype": "text/x-python",
   "name": "python",
   "nbconvert_exporter": "python",
   "pygments_lexer": "ipython3",
   "version": "3.11.3"
  }
 },
 "nbformat": 4,
 "nbformat_minor": 5
}
